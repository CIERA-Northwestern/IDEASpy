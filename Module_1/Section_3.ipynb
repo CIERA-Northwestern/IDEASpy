{
 "cells": [
  {
   "cell_type": "markdown",
   "metadata": {},
   "source": [
    "# 1.3 | Functions, Modules, and Packages\n",
    "\n",
    "One of the key selling points of using Python is its versatility. Python comes pre-packaged with many built-in modules and functions that are handy when doing computational research. These include tools for handling file input and output, performing operations on strings, performing standard mathematical operations and doing many other common things. One module you'll use frequently is the math module, which makes it possible for you to compute trigonometric functions, factorials and logarithms, as well as accessing special numbers, like pi and infinity. With Python, you've got just about everything you need at your fingertips!\n",
    "\n",
    "So what exactly is the difference between a function, a module and a package?\n",
    "\n",
    "> - A function is a block of code that can be referenced and run from anywhere in your program<br>\n",
    "> - A module is a text file that contains a number of functions and other items<br>\n",
    "> - A package is a group of related modules<br>\n",
    "\n",
    "As you go through the course, you'll learn many more useful built-in functions, modules and packages. You'll also find that sometimes you need to define your own functions and modules to suit your specific needs, so we'll show you how to do that, too. To explore all the included functions in Python 3, check out the documentation __[here](https://docs.python.org/3/library/functions.html)__.\n",
    "\n",
    "### Some Built-in Functions\n",
    "Many useful functions are built-in and can be used right away. Some common examples include,\n",
    "\n",
    "> max(num1, num2, num3) : returns the max of all items included in the list<br>\n",
    "> range(n_max) : returns the list of numbers from 0 up to n_max-1<br>\n",
    "> pow(base,exponent) : returns the value of the number base to the power exponent the result is equivalent to base**exponent\n",
    "                         \n",
    "Perhaps the most helpful function of all for a new programmer is the help function, which is available in an interactive Python session. You can request help on a specific module, keyword or topic using the following syntax:\n",
    "\n",
    "> help(FUNCTION_NAME)\n",
    "\n",
    "As an example, use the built-in help function to learn the full capabilities of the range function (it takes arguments min, max and step) in the cell below\n"
   ]
  },
  {
   "cell_type": "code",
   "execution_count": null,
   "metadata": {},
   "outputs": [],
   "source": []
  },
  {
   "cell_type": "markdown",
   "metadata": {},
   "source": [
    "## Practice:\n",
    "\n",
    "Use the following cell to practice working with the three functions shown above, and be sure you understand how each statement works before you move on. Some things you can try:\n",
    "\n",
    "> - Pick actual numbers for num1, num2, etc., and see check that the max() function works as expected\n",
    "> - You might guess there's a similar function called min()\n",
    "> - Use the range function to list out all numbers between 0-10\n",
    "> - Use the range function to list out all even numbers from 0 to -20 (i.e., 0, -2, -4, etc.)\n",
    "> - Pick some numbers to use with the pow( ) function. Just to refresh, can you remember the other way to compute a number A to the power of B? Compare and make sure they produce the same values.\n",
    "\n",
    "If you get stuck, try using the help() function!\n"
   ]
  },
  {
   "cell_type": "code",
   "execution_count": null,
   "metadata": {},
   "outputs": [],
   "source": []
  },
  {
   "cell_type": "markdown",
   "metadata": {},
   "source": [
    "## Built-in Modules\n",
    "\n",
    "While python comes with many useful pre-packaged modules, they are not automatically imported into your program - this must be done manually with each python program or each interactive python session. So, with every new interactive session, or every new program you create, the modules you need must be imported first, using a simple command of import MODULENAME \n",
    "\n",
    "As you begin writing your own code to solve specific research problems, you'll find that sometimes your research will call for very specialized functions that only you (and maybe a handful of other people) will need. In these instances, you can build your own modules as separate Python programs and import them into other programs, just like you can with the built-in modules. Later in the course, you'll learn how creating your own modules can help you keep your growing collection of codes modular and organized.\n",
    "\n",
    "### Math Module\n",
    "\n",
    "Let's say we want to calculate the circumference of the earth. You remember the formula, right: $C=2\\pi R\n",
    "$. How many digits of $\\pi$ can you rattle off by memory? $3.14159$... When it comes to $\\pi$ , Python's math module makes things easy for us. Try the following:"
   ]
  },
  {
   "cell_type": "code",
   "execution_count": 2,
   "metadata": {},
   "outputs": [
    {
     "name": "stdout",
     "output_type": "stream",
     "text": [
      "3.141592653589793\n"
     ]
    }
   ],
   "source": [
    "import math\n",
    "print(math.pi)"
   ]
  },
  {
   "cell_type": "markdown",
   "metadata": {},
   "source": [
    "In this case, we had to refer to the math module to access the number $\\pi$. There are variations on how you can import and refer to modules. Now try the following:"
   ]
  },
  {
   "cell_type": "code",
   "execution_count": 3,
   "metadata": {},
   "outputs": [
    {
     "name": "stdout",
     "output_type": "stream",
     "text": [
      "3.141592653589793\n"
     ]
    }
   ],
   "source": [
    "import math as m\n",
    "print(m.pi)"
   ]
  },
  {
   "cell_type": "markdown",
   "metadata": {},
   "source": [
    "In this instance, we have told the interpreter that we would reference the math module with m. Python makes it easy to import and use the modules you need in the way that is cleanest and easiest for you.\n",
    "\n",
    "While you can import all functions from a module and then reference them just by their name (e.g., pi instead of math.pi or m.pi), we recommend against this, because it can quickly lead to confusion when you can't tell where the function came from. Therefore, it's usually wise to use the import \"module\" as \"mod\" option to import certain values of functions from a module.\n",
    "\n",
    "In the cell, try importing the math function in each of these different ways, then take a few minutes to perform some test calculations using trig functions with commands like math.cos(NUMBER). Remember, you can always type help(math) if you need some guidance on how to make the most of what the math module offers. \n",
    "\n",
    "Can you figure out whether these trigonometric functions such as sin, cos, and tan, take input in degrees or in radians? Hint: This will be important for later in the course.\n",
    "\n",
    "If you're curious about the other modules that Python offers, see the full list __[here](https://docs.python.org/3/py-modindex.html)__.\n"
   ]
  },
  {
   "cell_type": "code",
   "execution_count": null,
   "metadata": {},
   "outputs": [],
   "source": []
  },
  {
   "cell_type": "markdown",
   "metadata": {},
   "source": [
    "## Takeaways:\n",
    "\n",
    "> - When learning Python, make use of available modules as much as possible. This will help you save time, and keep your collection of codes organized. Just remember - you have to import them into your script or interactive session, or you'll get an error.\n",
    "\n",
    "> - Take time to learn about the various built-in modules and functions available, and don't be afraid to ask around. It'll save you time in the end. When you need help learning about specific modules of functions, use Python's built-in help function."
   ]
  }
 ],
 "metadata": {
  "kernelspec": {
   "display_name": "Python 2",
   "language": "python",
   "name": "python2"
  },
  "language_info": {
   "codemirror_mode": {
    "name": "ipython",
    "version": 2
   },
   "file_extension": ".py",
   "mimetype": "text/x-python",
   "name": "python",
   "nbconvert_exporter": "python",
   "pygments_lexer": "ipython2",
   "version": "2.7.13"
  }
 },
 "nbformat": 4,
 "nbformat_minor": 2
}
