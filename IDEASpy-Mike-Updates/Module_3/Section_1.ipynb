{
 "cells": [
  {
   "cell_type": "markdown",
   "metadata": {},
   "source": [
    "# Section 3.1 | NumPy\n",
    "\n",
    "The widely used module NumPy is optimized for mathematical operations on arrays of values. NumPy's core is written in C, which means the NumPy lists are actually C-arrays. They are static and typed, unlike almost all objects in pure Python, such as lists (recall that a single list could include many different types of objects). NumPy’s core math functions are optimized to work extremely quickly over data arrays, and their inputs can be arrays of any number of dimensions. The NumPy module does more than just arrays, such as providing functions for timing the execution of blocks of code, which we'll turn to in the next lesson.\n",
    "\n",
    "## NumPy Arrays Basics\n",
    "Throughout this lesson, feel free to either work in a Jupyter notebook or in your IPython console.\n",
    "\n",
    "At the start of a Python interactive session (or any Python script), you must always first import the package:"
   ]
  },
  {
   "cell_type": "code",
   "execution_count": 1,
   "metadata": {},
   "outputs": [],
   "source": [
    "import numpy as np"
   ]
  },
  {
   "cell_type": "markdown",
   "metadata": {},
   "source": [
    "As with other modules, it's wise to import NumPy under a distinct name, such as np (you'll see this used frequently), to avoid confusing its functions and methods with others from the math module, or with Python's built-in functions.\n",
    "\n",
    "### Creating NumPy Arrays\n",
    "\n",
    "To create a simple one-dimensional array, you can provide as arguments a list object or objects (remember Python lists: x=[1, 2, 3, 4]), like the example in the cell below."
   ]
  },
  {
   "cell_type": "code",
   "execution_count": 2,
   "metadata": {},
   "outputs": [],
   "source": [
    "a = np.array([1, 2, 3, 4])"
   ]
  },
  {
   "cell_type": "markdown",
   "metadata": {},
   "source": [
    "Now that your array is created, enter each of the following operations on your array in the cell below:\n",
    "\n",
    "> a.shape\n",
    "\n",
    "> a.dtype\n"
   ]
  },
  {
   "cell_type": "code",
   "execution_count": null,
   "metadata": {},
   "outputs": [],
   "source": []
  },
  {
   "cell_type": "markdown",
   "metadata": {},
   "source": [
    "The first is telling you that the array you created a one-dimensional array of length 4, and the second tells you the array is composed of integer numbers. Python will automatically determine the dtype by the numbers contained in the array. However, you can set the data type manually when you define the array like this:"
   ]
  },
  {
   "cell_type": "code",
   "execution_count": 3,
   "metadata": {},
   "outputs": [],
   "source": [
    "a = np.array([1, 2, 3, 4], np.float)"
   ]
  },
  {
   "cell_type": "markdown",
   "metadata": {},
   "source": [
    "Check the dtype again and print out the array in the cell below, and you'll see that it is now an array of floats. We won't cover all the other optional arguments that array can take, but you can check out the documentation __[here](https://docs.scipy.org/doc/numpy/reference/generated/numpy.array.html)__ if you are interested."
   ]
  },
  {
   "cell_type": "code",
   "execution_count": null,
   "metadata": {},
   "outputs": [],
   "source": []
  },
  {
   "cell_type": "markdown",
   "metadata": {},
   "source": [
    "A common mistake to avoid is calling array with multiple numeric arguments, rather than providing a single list of numbers as an argument:\n",
    "\n",
    " > a = np.array(1, 2, 3, 4)               # Incorrect\n",
    "\n",
    "> a = np.array([1, 2, 3, 4])             # Correct\n",
    "\n",
    "Try out the incorrect way in the cell below and see what happens."
   ]
  },
  {
   "cell_type": "code",
   "execution_count": null,
   "metadata": {},
   "outputs": [],
   "source": []
  },
  {
   "cell_type": "markdown",
   "metadata": {},
   "source": [
    "You can combine multiple lists together to create two-dimensional arrays by enclosing a sequence of sequences inside another set of parentheses, separated by commas, as shown below (everything within the inner set of parentheses is to be interpreted as the actual components of the array):"
   ]
  },
  {
   "cell_type": "code",
   "execution_count": 4,
   "metadata": {},
   "outputs": [],
   "source": [
    "b = np.array(([1, 2, 3, 4, 5], [6, 7, 8, 9, 10]))"
   ]
  },
  {
   "cell_type": "markdown",
   "metadata": {},
   "source": [
    "What is the shape of this array? In the cell below, try creating an array containing 4 rows and 2 columns (shape(4,2))."
   ]
  },
  {
   "cell_type": "code",
   "execution_count": null,
   "metadata": {},
   "outputs": [],
   "source": []
  },
  {
   "cell_type": "markdown",
   "metadata": {},
   "source": [
    "If you have Python lists defined, you can also convert them into a NumPy array like this:"
   ]
  },
  {
   "cell_type": "code",
   "execution_count": 5,
   "metadata": {},
   "outputs": [],
   "source": [
    "list1 = [1, 2, 3, 4, 5]\n",
    "list2 = [6, 7, 8, 9, 10]\n",
    "b = np.array((list1, list2))"
   ]
  },
  {
   "cell_type": "markdown",
   "metadata": {},
   "source": [
    "Again, note the additional inner parentheses required when using a __sequence__ of lists."
   ]
  },
  {
   "cell_type": "markdown",
   "metadata": {},
   "source": [
    "### Indexing and Slicing\n",
    "\n",
    "To reference elements of a simple one-dimensional array, you can use syntax just like you used for Python lists:"
   ]
  },
  {
   "cell_type": "code",
   "execution_count": 6,
   "metadata": {},
   "outputs": [
    {
     "name": "stdout",
     "output_type": "stream",
     "text": [
      "6\n"
     ]
    }
   ],
   "source": [
    "a = np.array([2, 4, 6, 8])\n",
    "print(a[2])                # This should print out the third array element (6)\n"
   ]
  },
  {
   "cell_type": "markdown",
   "metadata": {},
   "source": [
    "When you have two-dimensional arrays, you use one index per axis, separated by a comma:"
   ]
  },
  {
   "cell_type": "code",
   "execution_count": 7,
   "metadata": {},
   "outputs": [
    {
     "name": "stdout",
     "output_type": "stream",
     "text": [
      "10\n"
     ]
    }
   ],
   "source": [
    "b = np.array(([1, 2, 3, 4, 5], [6, 7, 8, 9, 10]))\n",
    "print(b[1,4])          # This should print out the number 10"
   ]
  },
  {
   "cell_type": "markdown",
   "metadata": {},
   "source": [
    "The first index (here, 1) indicates which sequence or vector we are referencing, and the second index (here, 4) indicates which element in that vector. A three-dimensional array would require three indices to access a single element, and so on. In this course, we won't go beyond 2-D arrays, but if you want to learn more about working with N-dimensional arrays, checkout this __[tutorial](https://docs.scipy.org/doc/numpy/user/quickstart.html)__.\n",
    "\n",
    "What happens when you list just one index when referencing your two-dimensional array? \n",
    "Try it out in the cell below:"
   ]
  },
  {
   "cell_type": "code",
   "execution_count": null,
   "metadata": {},
   "outputs": [],
   "source": []
  },
  {
   "cell_type": "markdown",
   "metadata": {},
   "source": [
    "Array slicing is a bit trickier. The general syntax for a slice is \n",
    "> array[start:stop:step, start:stop:step, ...]\n",
    "\n",
    "depending on the dimensions of the array. Any or all of the values start, stop, and step may be left out (and if step is left out the colon in front of it may also be left out). Again, this syntax works similarly to Python lists, except now we may have more than one axis to reference. You may need a bit of practice to get used to how array slicing works, so here we go.\n",
    "\n"
   ]
  },
  {
   "cell_type": "markdown",
   "metadata": {},
   "source": [
    "## Practice\n",
    "\n",
    "Try out the following in the cell below:\n",
    "\n",
    "> 1. Create any 4x5 array and assign it to the variable \"a\"<br>\n",
    "> 2. Do you know what a[1] will equal? Print to check.<br>\n",
    "> 3. Knowing the basic syntax for slicing, array[start:stop:step, start:stop:step, ...], can you predict the output of these slices? Take a guess first, then print each of the following to check.<br>\n",
    ">>a[:, 3]<br>\n",
    ">>a[1:4, 2:5]<br>\n",
    ">>a[1:, 2]<br>\n",
    ">>a[::2, ::-1]<br>"
   ]
  },
  {
   "cell_type": "markdown",
   "metadata": {},
   "source": [
    "## Functions for Generating Arrays\n",
    "\n",
    "Sometimes you know you want to create an array of a certain size, but you don't yet know the numbers that will fill it. Hence, NumPy offers several functions to create arrays with initial placeholder content (such as all zeros). Take a look at the output of the two examples below by assiging each line to a variable and printing it in the cell below.\n",
    "\n",
    ">np.zeros((3,4))    # creates an array of shape (3,4) filled with zeros<br>\n",
    ">np.ones((5,2))     # creates an array of shape (5,2) filled with ones<br>"
   ]
  },
  {
   "cell_type": "code",
   "execution_count": null,
   "metadata": {},
   "outputs": [],
   "source": []
  },
  {
   "cell_type": "markdown",
   "metadata": {},
   "source": [
    "Sometimes you'll want to create an array with a sequence of automatically generated numbers. This can be useful for plotting, as well as for many other applications. \n",
    "\n",
    "One way to do this is with the very useful NumPy function linspace. Most often, you'll want to provide three arguments (but there are additional arguments you can include): \n",
    ">linspace(min, max, num) \n",
    "\n",
    "The arguments min and max specify the range of linear space you want to include), and num specifies how many numbers you want to select over that space. You can leave out the third argument, and you'll get the default number of points of 50. The code snippet below shows how it works."
   ]
  },
  {
   "cell_type": "code",
   "execution_count": 8,
   "metadata": {},
   "outputs": [],
   "source": [
    "np.linspace(0,10)                      # 50 (default) linearly-spaced numbers from 0 to 10\n",
    "np.linspace(0,10,200)                  # With 3 arguments, this generates 200 numbers should generated\n",
    "x = np.linspace(0, 2*np.pi, 100)       # This is helpful, for example, if you wanted to plot the sin( ) function"
   ]
  },
  {
   "cell_type": "markdown",
   "metadata": {},
   "source": [
    "Note that since we've imported NumPy previously, we can reference the value of pi with np.pi. \n",
    "\n",
    "It's very common to need to generate a bunch of random numbers, whether integers or floats. Again, NumPy has functions for that, too. \n",
    "\n",
    "> np.random.randint(5,100,20) &nbsp; &nbsp; # 1D array of 20 integers drawn uniformly over range [5,100) (excluding 100)<br>\n",
    "\n",
    "> np.random.randint(-10,10,(3,5)) &nbsp; &nbsp; # array of shape (3,5) with integers over range [5,100) (excluding 100)<br>\n",
    "\n",
    "> np.random.random(25) &nbsp; &nbsp; # 1D array of 25 floats drawn uniformly from [0,1) (excluding 1)<br>\n",
    "\n",
    "> np.random.random((3,5)) &nbsp; &nbsp; # array of shape (3,5) with floats drawn uniformly from [0,1) (excluding 1)<br>\n",
    "\n",
    "> np.random.uniform(5,20,100)    # array of 100 floats drawn from range [5,20) (excluding 20) <br>"
   ]
  },
  {
   "cell_type": "markdown",
   "metadata": {},
   "source": [
    "### Basic Array Operations\n",
    "\n",
    "As a final note, NumPy provides familiar mathematical functions such as sin, cos, and exp. In NumPy, these are called universal functions. Within NumPy, these functions operate elementwise on an array, producing an array as output. Similarly, basic arithmetic operations act elementwise on arrays, such as addition, subtraction, multiplication, division, and exponentiation. Please note that array multiplication in NumPy is not matrix multiplication (aka dot product, but this can be done via the dot function. For two arrays a and b, these operations work as follows:\n",
    "\n",
    "> np.sin(a)           &nbsp; &nbsp; &nbsp; &nbsp; # elementwise computation of the sin of each element<br>\n",
    "> a+b                 &nbsp; &nbsp; &nbsp; &nbsp; # elementwise addition of the arrays<br>\n",
    "> a&ast;&ast;3               &nbsp; &nbsp; &nbsp; &nbsp; # elementwise exponentiation of each number in the array<br>\n",
    "> a&ast;b                &nbsp; &nbsp; &nbsp; &nbsp; # elementwise multiplication of the elements of the array<br>\n",
    "> np.dot(a,b)         &nbsp; &nbsp; &nbsp; &nbsp; # matrix multiplication, or dot product, of the arrays<br>\n",
    "> a.sum()             &nbsp; &nbsp; &nbsp; &nbsp; # returns the sum of all elements of the array<br>\n",
    "> (a&ast;b).sum()         &nbsp; &nbsp; &nbsp; &nbsp; # in one step, multiply the elements of two arrays, then sum the result<br>\n",
    "> a.min()             &nbsp; &nbsp; &nbsp; &nbsp; # returns the min value of the array<br>\n",
    "> a.max()             &nbsp; &nbsp; &nbsp; &nbsp; # returns the max value of the array<br>\n",
    "> a.argmax()          &nbsp; &nbsp; &nbsp; &nbsp; # returns the index of the max value of the array<br>\n",
    "> a.std()             &nbsp; &nbsp; &nbsp; &nbsp; # returns the standard deviation of the array of numbers<br>"
   ]
  },
  {
   "cell_type": "markdown",
   "metadata": {},
   "source": [
    "## Practice\n",
    "\n",
    "In the cell below, generate an array shape (5,4) fill with random data and perform each of the operations listed above."
   ]
  },
  {
   "cell_type": "code",
   "execution_count": null,
   "metadata": {},
   "outputs": [],
   "source": []
  },
  {
   "cell_type": "markdown",
   "metadata": {},
   "source": [
    "With NumPy being as powerful as it is, we recommend that you check out the NumPy __[user guide](https://docs.scipy.org/doc/numpy/user/index.html#user)__ for a more thorough introduction. Google can often help you find what you are looking for too!\n",
    "\n",
    "## Takeaways\n",
    "\n",
    "> - There are many different ways to create arrays: np.array, np.zeroes, np.ones, np.linspace, np.random.randint, np.random.random, and several others.<br>\n",
    "> - Indexing and slicing arrays work very much the same way it does for Python lists.<br>\n",
    "> - There are tons of useful functions for operating on arrays, including doing element-wise operations, computing sums or other array-wide quantities, and more complex operations, like computing the dot product.<br>"
   ]
  }
 ],
 "metadata": {
  "kernelspec": {
   "display_name": "Python 3",
   "language": "python",
   "name": "python3"
  },
  "language_info": {
   "codemirror_mode": {
    "name": "ipython",
    "version": 3
   },
   "file_extension": ".py",
   "mimetype": "text/x-python",
   "name": "python",
   "nbconvert_exporter": "python",
   "pygments_lexer": "ipython3",
   "version": "3.6.5"
  }
 },
 "nbformat": 4,
 "nbformat_minor": 2
}
