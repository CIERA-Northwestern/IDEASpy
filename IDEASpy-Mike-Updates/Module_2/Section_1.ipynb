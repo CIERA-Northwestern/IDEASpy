{
 "cells": [
  {
   "cell_type": "markdown",
   "metadata": {},
   "source": [
    "# 2.1 | Lists in Python\n",
    "\n",
    "## Why Use Lists?\n",
    "We briefly touched on lists in [Module 1: Section 4](https://github.com/bueno646/CIERA-HS-Program-2021/blob/master/IDEASpy-Mike-Updates/Module_1/Section_4.ipynb). We likened them to a labeled ice cube tray to convey that lists are a way to store multiple pieces of information in Python. Here we will provide a more technical description and expand on the utility of lists.\n",
    "\n",
    "Lists in Python are a convenient way to store related information. Lists are essentially ordered sequences of items, and the items (or \"elements\") within a list can be of any type you wish, and can even mix different types of data, making them very versatile objects. \n",
    "\n",
    "Let’s start with the very basics of lists.\n",
    "\n",
    "## Creating and Changing Lists\n",
    "\n",
    "To create a list, put the items inside of square brackets separated by commas, as shown in the examples below.\n"
   ]
  },
  {
   "cell_type": "code",
   "execution_count": 1,
   "metadata": {},
   "outputs": [],
   "source": [
    "my_list_1 = [2, 8, 4, 8]             # list of numbers\n",
    "my_list_2 = ['cat', 'dog', 'llama']  # list of strings, must use 'string'\n",
    "my_list_3 = ['Alice', 42, 'Bob', 66] # list with strings and numbers\n",
    "my_list_4 = [my_list_1, my_list_2, my_list_3] # list of predefined variables"
   ]
  },
  {
   "cell_type": "markdown",
   "metadata": {},
   "source": [
    "Once you have a list defined, there are many things you can do with it. Here are some common examples:"
   ]
  },
  {
   "cell_type": "markdown",
   "metadata": {},
   "source": [
    "### Checking how long your list is\n",
    "It is often helpful to make sure your code looks the way you want it to. If you are working with lists, one way to do that is to make sure it is composed of as many elements as you need it to be! For example, if I am storing the temperature of 5 stars for later use, I may want to check that the list if 5 elements long. Incorporating checks like this in your code can be very helpful for avoiding (and finding) bugs in your code. "
   ]
  },
  {
   "cell_type": "code",
   "execution_count": 1,
   "metadata": {
    "ExecuteTime": {
     "end_time": "2021-04-22T18:36:55.165828Z",
     "start_time": "2021-04-22T18:36:54.855954Z"
    }
   },
   "outputs": [
    {
     "name": "stdout",
     "output_type": "stream",
     "text": [
      "4\n"
     ]
    }
   ],
   "source": [
    "my_list = [2, 8, 6, 4]\n",
    "list_length = len(my_list)  # returns the length, or number of items, in the list (4)\n",
    "print(list_length)"
   ]
  },
  {
   "cell_type": "markdown",
   "metadata": {},
   "source": [
    "### Sorting your list"
   ]
  },
  {
   "cell_type": "code",
   "execution_count": 3,
   "metadata": {},
   "outputs": [
    {
     "name": "stdout",
     "output_type": "stream",
     "text": [
      "[2, 4, 6, 8]\n"
     ]
    }
   ],
   "source": [
    "my_list.sort()  # sorts the list from smallest to largest [2, 4, 6, 8]\n",
    "print(my_list)"
   ]
  },
  {
   "cell_type": "code",
   "execution_count": 4,
   "metadata": {},
   "outputs": [
    {
     "name": "stdout",
     "output_type": "stream",
     "text": [
      "[8, 6, 4, 2]\n"
     ]
    }
   ],
   "source": [
    "my_list.sort(reverse=True)  # reverse-sorts the list [8, 6, 4, 2]\n",
    "print(my_list)"
   ]
  },
  {
   "cell_type": "markdown",
   "metadata": {},
   "source": [
    "### Your turn: Create a list!\n",
    "Create a list for numbers 1-10 (inclusive of both 1 & and 10) <br>\n",
    "Create a list of with your first, middle, and last name(s) <br>\n",
    "Try making these lists in the cell below!"
   ]
  },
  {
   "cell_type": "code",
   "execution_count": null,
   "metadata": {},
   "outputs": [],
   "source": [
    "# your code below\n",
    "\n",
    "\n"
   ]
  },
  {
   "cell_type": "markdown",
   "metadata": {},
   "source": [
    "### Your turn: Sort your list!\n",
    "Depending on how you made your list in the code cell above, sort your numbered list from smallest to largest or largest to smallest in the cell below"
   ]
  },
  {
   "cell_type": "code",
   "execution_count": null,
   "metadata": {},
   "outputs": [],
   "source": [
    "# your code below\n",
    "\n",
    "\n"
   ]
  },
  {
   "cell_type": "markdown",
   "metadata": {},
   "source": [
    "## Using Specific Item or Items in a List\n",
    "\n",
    "The previous examples were things you could do with an entire list, but often you'll just want to use (or \"reference\") certain individual elements or perhaps a slice (subset) of the list. In Python, counting starts with ZERO, so the first item in a list will be referenced with the index 0. See an example below: <br>\n",
    "\n",
    "> - example_list = [17, 8, 29]\n",
    "> - In \"example list\" the first element, which corresponds to the 0th index, is the integer \"17\". \n",
    "\n",
    "Negative indices count backward from the end of the list. See an example below: <br>\n",
    "\n",
    "> - example_list = [17, 8, 29] \n",
    "> - In \"example list\" we can use a negative one to reference the last element, which corresponds to the -1st index, which is the integer \"29\". \n"
   ]
  },
  {
   "cell_type": "markdown",
   "metadata": {},
   "source": [
    "### Walkthrough: referencing specific item or items in a list. \n",
    "In the cell below we will show examples of code referencing the first, second, and last item of a list. "
   ]
  },
  {
   "cell_type": "code",
   "execution_count": 1,
   "metadata": {
    "ExecuteTime": {
     "end_time": "2021-04-08T17:57:56.839034Z",
     "start_time": "2021-04-08T17:57:56.719123Z"
    }
   },
   "outputs": [
    {
     "name": "stdout",
     "output_type": "stream",
     "text": [
      "18\n",
      "55\n",
      "38\n"
     ]
    }
   ],
   "source": [
    "example_list = [18,55,17,38] \n",
    "  \n",
    "print(example_list[0])        # returns the FIRST item in the list\n",
    "print(example_list[1])        # returns the THIRD item in the list\n",
    "print(example_list[-1])       # last item in the list"
   ]
  },
  {
   "cell_type": "markdown",
   "metadata": {},
   "source": [
    "### Slices\n",
    "\n",
    "When you take a slice of a list, you have three options you can control: the start index, the end index (which is non-inclusive in the slice), and a \"step value\", which controls how you want to step over the items included in your slice (one by one, every other, etc.). Each of these options is separated by a colon (:), and they are all optional. However, when left out, it has a very specific meaning. The trickiest thing to remember is that the end value is actually the first number that is NOT included in the selected slice. Check out the examples below and their meaning. Below you will see an example that uses the words \"start index\", \"end index\", and \"step value\" instead of numbers, which will be in the following code block.<br>\n",
    "\n",
    "> - Example\n",
    "> - print(my_list[__start index : end index : step value__])\n",
    "\n",
    "As referenced above, different configurations of slice options result in different outcomes. We will use words in the slices below to illustrate this\n",
    "\n",
    "> - Example\n",
    "> - print(my_list[start index]) # this will print the element at the index corresponding to the start index\n",
    "> - print(my_list[start index : ]  # this will print the elements starting at the start index through the end of the list\n",
    "> - print(my_list[:end index])  # since the number to the left of the colon was not filled, this will start from                                     the beginning of the list and __stop__ non-inclusively at the end index\n",
    "\n",
    "#### Using negative numbers in slices\n",
    "\n",
    "It can be advantageous to print the last element or elements of a list. For example, if you are __adding__ an element to the end of a list, you may want check that it was added correctly. If you use negative signs within slices, which start from the end of the list. See the examples below for a walkthrough of this:\n",
    "\n",
    "> - Example\n",
    "> - print(my_list[-3]) # this will print the third to last item in the list.\n"
   ]
  },
  {
   "cell_type": "code",
   "execution_count": 10,
   "metadata": {},
   "outputs": [
    {
     "name": "stdout",
     "output_type": "stream",
     "text": [
      "[0, 1, 2, 3, 4, 5, 6, 7, 8, 9, 10]\n",
      "10\n",
      "[9, 10]\n",
      "[0, 1, 2, 3, 4, 5, 6, 7, 8]\n",
      "[0, 2, 4, 6, 8]\n"
     ]
    }
   ],
   "source": [
    "my_list = [0,1,2,3,4,5,6,7,8,9,10]      # create a new list\n",
    "\n",
    "print(my_list[:])               # a copy of the whole list\n",
    "print(my_list[-1])              # last item in the list\n",
    "print(my_list[-2:])             # only the last two items in the list\n",
    "print(my_list[:-2])             # everything except the last two items\n",
    "print(my_list[0:10:2])         # items 0, 2, 4, 6, 8 (but not including 10!)"
   ]
  },
  {
   "cell_type": "markdown",
   "metadata": {},
   "source": [
    "You can also use variables to access a slice of your list. See the examples below:"
   ]
  },
  {
   "cell_type": "code",
   "execution_count": 12,
   "metadata": {},
   "outputs": [
    {
     "name": "stdout",
     "output_type": "stream",
     "text": [
      "[1, 2, 3, 4, 5, 6, 7, 8, 9, 10]\n",
      "[0, 1, 2, 3, 4, 5, 6, 7, 8, 9]\n",
      "[1, 4, 7]\n"
     ]
    }
   ],
   "source": [
    "start = 1\n",
    "end = 10\n",
    "step = 3\n",
    "\n",
    "print(my_list[start:])          # items start through the rest of the list\n",
    "print(my_list[:end] )           # items from the beginning through end-1\n",
    "print(my_list[start:end:step])  # items from index start through end-1,\n"
   ]
  },
  {
   "cell_type": "markdown",
   "metadata": {},
   "source": [
    "## Practice\n",
    "\n",
    "Now that you know a bit about how lists work, fill in the necessary code below to manipulate lists of test scores."
   ]
  },
  {
   "cell_type": "code",
   "execution_count": 13,
   "metadata": {},
   "outputs": [
    {
     "name": "stdout",
     "output_type": "stream",
     "text": [
      "[88, 91, 99, 77, 93]\n"
     ]
    }
   ],
   "source": [
    "# Create a list of student grades and print it\n",
    "# (this is done for you already)\n",
    "grades = [88, 91, 99, 77, 93]\n",
    "print(grades)\n",
    "\n",
    "# Print the number of student grades contained in the list (the length of the list)\n",
    "\n",
    "\n",
    "# Print out the top three grades, highest to lowest, referencing each item individually by its index\n",
    "\n",
    "\n",
    "# Sort the grades from lowest to higest, then print the sorted list\n",
    "\n",
    "\n",
    "# Use the slice method to print the three highest scores\n"
   ]
  },
  {
   "cell_type": "markdown",
   "metadata": {},
   "source": [
    "## Updating a List\n",
    "\n",
    "You can also create empty lists and fill them as you go. Or, if you have an existing list with any number of elements, you can use the append or insert methods shown below to expand your lists. There are also various ways of removing items from a list. A few of these methods are shown below, but you can see all the list methods __[here](https://docs.python.org/3/tutorial/datastructures.html)__."
   ]
  },
  {
   "cell_type": "code",
   "execution_count": 17,
   "metadata": {},
   "outputs": [],
   "source": [
    "item1 = 10\n",
    "item2 = 3\n",
    "item3 = 2\n",
    "i = 0\n",
    "x = 10\n",
    "\n",
    "list = []             # creates an empty list and fill it later\n",
    "list.append(item1)    # appends item1 to the end of the list\n",
    "list.insert(i, item2) # inserts item2 at position i\n",
    "list.append(item3)    # appends item3 to the end of the list\n",
    "list.pop()            # remove the last item from the list and return it\n",
    "list.pop(i)           # remove the item in position i from the list and return it\n",
    "list.remove(x)        # remove the first item from the list whose value is x "
   ]
  },
  {
   "cell_type": "markdown",
   "metadata": {},
   "source": [
    "## Practice\n",
    "Practice the methods above by filling in the necessary code to manipulate some lists of student grades."
   ]
  },
  {
   "cell_type": "code",
   "execution_count": 18,
   "metadata": {},
   "outputs": [],
   "source": [
    "# Student names and grades\n",
    "# Alice   Bob   Collette  Darren  Fred\n",
    "# 88      91    99        77      93\n",
    "\n",
    "# List of student grades\n",
    "grades = [88, 91, 77]\n",
    "\n",
    "# Oops! We forgot to include Collette's and Fred's grades\n",
    "# Use \"insert\" to insert Collette's grade into the right place in the list, \n",
    "# and use \"append\" to add Fred's grade where it belongs.\n",
    "\n",
    "\n",
    "# Sort the grades from higest to lowest, then print the sorted list\n",
    "\n",
    "\n",
    "# The student with the lowest score has dropped; delete them from the list using \"pop\" then print the list\n",
    "\n",
    "\n",
    "# The student with score of 93 has dropped; so remove them from the list using \"remove\" then print the list\n",
    "\n"
   ]
  },
  {
   "cell_type": "markdown",
   "metadata": {},
   "source": [
    "## Takeaways: \n",
    "> - Lists are sequences of items that can be of any data type (even another list), and are an extremely useful tool in Python\n",
    "> - Items in list can be referenced using indices, and they can also be sorted and sliced and diced in different ways to suit your needs\n",
    "> - Lists are one of many different type of array-like objects, and used frequently because they are simple to set up and are very flexible\n"
   ]
  }
 ],
 "metadata": {
  "kernelspec": {
   "display_name": "Python 3",
   "language": "python",
   "name": "python3"
  },
  "language_info": {
   "codemirror_mode": {
    "name": "ipython",
    "version": 3
   },
   "file_extension": ".py",
   "mimetype": "text/x-python",
   "name": "python",
   "nbconvert_exporter": "python",
   "pygments_lexer": "ipython3",
   "version": "3.7.1"
  },
  "toc": {
   "base_numbering": 1,
   "nav_menu": {},
   "number_sections": true,
   "sideBar": true,
   "skip_h1_title": false,
   "title_cell": "Table of Contents",
   "title_sidebar": "Contents",
   "toc_cell": false,
   "toc_position": {},
   "toc_section_display": true,
   "toc_window_display": false
  },
  "varInspector": {
   "cols": {
    "lenName": 16,
    "lenType": 16,
    "lenVar": 40
   },
   "kernels_config": {
    "python": {
     "delete_cmd_postfix": "",
     "delete_cmd_prefix": "del ",
     "library": "var_list.py",
     "varRefreshCmd": "print(var_dic_list())"
    },
    "r": {
     "delete_cmd_postfix": ") ",
     "delete_cmd_prefix": "rm(",
     "library": "var_list.r",
     "varRefreshCmd": "cat(var_dic_list()) "
    }
   },
   "types_to_exclude": [
    "module",
    "function",
    "builtin_function_or_method",
    "instance",
    "_Feature"
   ],
   "window_display": false
  }
 },
 "nbformat": 4,
 "nbformat_minor": 2
}
