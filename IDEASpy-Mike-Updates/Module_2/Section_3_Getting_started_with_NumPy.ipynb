{
 "cells": [
  {
   "cell_type": "markdown",
   "metadata": {},
   "source": [
    "# Section 2.3 | Getting Started with NumPy\n",
    "\n",
    "## Why Numpy?\n",
    "\n",
    "NumPy (often pronounced \"Num-pie\") is a widely used module that is optimized to efficiently execute a variety of mathematical operations. Numpy will be extremely useful for your budding career as an astronomer because of everything it can help you do - read in and manipulate large amounts of data, quickly do simple or complex math, and much much more. While using Numpy, you will be working with  on objects called __\"arrays\"__. Arrays are similar to lists, with some key differences. Lets go over the differences between arrays and lists\n",
    "\n",
    "\n",
    "## Lists vs Arrays; Why use arrays instead of lists?\n",
    "The most important thing about arrays is that they allow you to do math operations on the whole array and/or also individual elements. We will demonstrate this utility later on! Below are some key similarities and differences between arrays and lists.\n",
    "\n",
    "__Similarities:__\n",
    "\n",
    "> Both store multiple pieces of information <br>\n",
    "> You can store different types of information as elements within them (floats, strings, lists, etc) <br>\n",
    "> Both are indexed and iterated over identically to one another <br>\n",
    "\n",
    "__Differences__:\n",
    "\n",
    "> Arrays have to be created using Numpy, whereas lists are part of Python's libraries <br>\n",
    "> You can do math on numerical elements within arrays, but __not__ lists <br>\n",
    "\n",
    "You may recall that in [Module 2: Section 1](https://github.com/bueno646/CIERA-HS-Program-2021/blob/master/IDEASpy-Mike-Updates/Module_2/Section_1.ipynb) we likened lists to a row of lockers. Since both store data, but arrays allow you to do math on numerical elements, we will think of arrays as turbo charged lists."
   ]
  },
  {
   "cell_type": "markdown",
   "metadata": {},
   "source": [
    "## NumPy Arrays Basics\n",
    "At the start of a Jupyter notebook, a Python interactive session, or a any Python script, __you must always first import the package as is done below__\n",
    "\n",
    "#### Importing Numpy"
   ]
  },
  {
   "cell_type": "code",
   "execution_count": 1,
   "metadata": {},
   "outputs": [],
   "source": [
    "import numpy as np"
   ]
  },
  {
   "cell_type": "markdown",
   "metadata": {},
   "source": [
    "As with other modules, it's wise to import NumPy under a distinct name, such as np (you'll see this used frequently), to avoid confusing its functions and methods with others from the math module, or with Python's built-in functions.\n",
    "\n"
   ]
  },
  {
   "cell_type": "markdown",
   "metadata": {},
   "source": [
    "### Lists vs Array revisited\n",
    "\n",
    "In section 1.2 of this notebook, we mentioned two differences between arrays and lists. These differences are important to consider when thinking about the numpy's utility. As you do more complex math and have to work with larger amounts of data, Numpy will likely become a familiar tool for you because of the wide array of mathematical operations it can help you perform and how quickly it performs them. \n",
    "\n",
    "__Differences__:\n",
    "\n",
    "> Arrays have to be created using Numpy, whereas lists are part of Python's libraries <br>\n",
    "> You can do math on numerical elements within arrays, but __not__ lists <br>\n",
    "\n",
    "\n",
    "\n",
    "Lets take a look at these differences in the code below"
   ]
  },
  {
   "cell_type": "markdown",
   "metadata": {},
   "source": [
    "#### Arrays have to be created using Numpy\n",
    "To create a simple one-dimensional array, you can provide as arguments a list object or objects (remember Python lists: x=[1, 2, 3, 4]). The list must be encased in an \"np.array\" like in the example in the cell below. "
   ]
  },
  {
   "cell_type": "code",
   "execution_count": null,
   "metadata": {},
   "outputs": [],
   "source": [
    "example_array = np.array([1, 2, 3, 4])"
   ]
  },
  {
   "cell_type": "markdown",
   "metadata": {},
   "source": [
    "#### You can do math on numerical elements within arrays, but __not__ lists\n",
    "Lets say you have a list of planetary radii (within the solar system and in meters). Lets say you quickly wanted to use those radii to calculate the area for each planet. As you may recall, the area (A) for a sphere of radius R is as follows: A = 4$\\pi$ $\\times$ $R^{2}$ \n",
    "\n",
    "Lets take a look at the code below to see what happens if we try to square the __list__ of planetary radii and then multiply it by 4$\\pi$ to get a __list__ of areas. "
   ]
  },
  {
   "cell_type": "code",
   "execution_count": 10,
   "metadata": {
    "ExecuteTime": {
     "end_time": "2021-05-26T18:35:18.431724Z",
     "start_time": "2021-05-26T18:35:18.427685Z"
    }
   },
   "outputs": [],
   "source": [
    "#define list of radii and planet names\n",
    "list_of_radii   = [71492000, 60268000, 25559000, 24764000, 6378000, 6052000, 3396000, 2439000, 1195000]\n",
    "list_of_planets = ['jupiter', 'saturn', 'uranus', 'neptune', 'earth', 'venus', 'mars', 'mercury', 'pluto']\n"
   ]
  },
  {
   "cell_type": "markdown",
   "metadata": {},
   "source": [
    "##### Lets try squaring the radii (before multiplying by 4$\\pi$)"
   ]
  },
  {
   "cell_type": "code",
   "execution_count": 12,
   "metadata": {
    "ExecuteTime": {
     "end_time": "2021-05-26T18:36:32.057461Z",
     "start_time": "2021-05-26T18:36:32.048968Z"
    },
    "scrolled": false
   },
   "outputs": [
    {
     "ename": "TypeError",
     "evalue": "unsupported operand type(s) for ** or pow(): 'list' and 'int'",
     "output_type": "error",
     "traceback": [
      "\u001b[0;31m---------------------------------------------------------------------------\u001b[0m",
      "\u001b[0;31mTypeError\u001b[0m                                 Traceback (most recent call last)",
      "\u001b[0;32m<ipython-input-12-0236ac71d773>\u001b[0m in \u001b[0;36m<module>\u001b[0;34m\u001b[0m\n\u001b[1;32m      1\u001b[0m \u001b[0;31m# recall that we use ** to raise a number or object to a power\u001b[0m\u001b[0;34m\u001b[0m\u001b[0;34m\u001b[0m\u001b[0;34m\u001b[0m\u001b[0m\n\u001b[0;32m----> 2\u001b[0;31m \u001b[0mlist_of_radii\u001b[0m\u001b[0;34m**\u001b[0m\u001b[0;36m2\u001b[0m\u001b[0;34m\u001b[0m\u001b[0;34m\u001b[0m\u001b[0m\n\u001b[0m",
      "\u001b[0;31mTypeError\u001b[0m: unsupported operand type(s) for ** or pow(): 'list' and 'int'"
     ]
    }
   ],
   "source": [
    "# recall that we use ** to raise a number or object to a power\n",
    "list_of_radii**2"
   ]
  },
  {
   "cell_type": "markdown",
   "metadata": {},
   "source": [
    "##### That didn't work\n",
    "lets try using an __array__ of plantary radii instead. <br>\n",
    "Pay close attention to the comments in the cell below describing the code"
   ]
  },
  {
   "cell_type": "code",
   "execution_count": 2,
   "metadata": {
    "ExecuteTime": {
     "end_time": "2021-05-26T19:25:40.349516Z",
     "start_time": "2021-05-26T19:25:40.339551Z"
    }
   },
   "outputs": [
    {
     "name": "stdout",
     "output_type": "stream",
     "text": [
      "[5111106064000000 3632231824000000  653262481000000  613255696000000\n",
      "   40678884000000   36626704000000   11532816000000    5948721000000\n",
      "    1428025000000]\n",
      "\n",
      "5111106064000000\n",
      "5111106064000000\n",
      "if the last two numbers are the same, our code worked as expected\n"
     ]
    }
   ],
   "source": [
    "# create array here\n",
    "array_of_radii   = np.array([71492000, 60268000, 25559000, 24764000,\n",
    "                             6378000, 6052000, 3396000, 2439000, 1195000])\n",
    "\n",
    "# square the whole array\n",
    "radii_squared    = array_of_radii**2\n",
    "\n",
    "# Print the squared radii\n",
    "print(radii_squared)\n",
    "print()\n",
    "\n",
    "# Lets print the square of the first element in \"array_of_radii\" to make sure our code works as expected\n",
    "print(array_of_radii[0]**2)\n",
    "print(radii_squared[0])\n",
    "\n",
    "print(\"if the last two numbers are the same, our code worked as expected\")"
   ]
  },
  {
   "cell_type": "markdown",
   "metadata": {},
   "source": [
    "###### __Note__: You can create an array from an existing list stored in a variable with np.array( ), as done below"
   ]
  },
  {
   "cell_type": "code",
   "execution_count": 3,
   "metadata": {
    "ExecuteTime": {
     "end_time": "2021-05-26T19:26:48.558093Z",
     "start_time": "2021-05-26T19:26:48.338848Z"
    }
   },
   "outputs": [
    {
     "ename": "NameError",
     "evalue": "name 'list_of_radii' is not defined",
     "output_type": "error",
     "traceback": [
      "\u001b[0;31m---------------------------------------------------------------------------\u001b[0m",
      "\u001b[0;31mNameError\u001b[0m                                 Traceback (most recent call last)",
      "\u001b[0;32m<ipython-input-3-1d24c1162e6c>\u001b[0m in \u001b[0;36m<module>\u001b[0;34m\u001b[0m\n\u001b[0;32m----> 1\u001b[0;31m \u001b[0marray_of_radii_note\u001b[0m   \u001b[0;34m=\u001b[0m \u001b[0mnp\u001b[0m\u001b[0;34m.\u001b[0m\u001b[0marray\u001b[0m\u001b[0;34m(\u001b[0m\u001b[0mlist_of_radii\u001b[0m\u001b[0;34m)\u001b[0m\u001b[0;34m\u001b[0m\u001b[0;34m\u001b[0m\u001b[0m\n\u001b[0m\u001b[1;32m      2\u001b[0m \u001b[0;34m\u001b[0m\u001b[0m\n\u001b[1;32m      3\u001b[0m \u001b[0mprint\u001b[0m\u001b[0;34m(\u001b[0m\u001b[0marray_of_radii_note\u001b[0m\u001b[0;34m)\u001b[0m\u001b[0;34m\u001b[0m\u001b[0;34m\u001b[0m\u001b[0m\n\u001b[1;32m      4\u001b[0m \u001b[0mprint\u001b[0m\u001b[0;34m(\u001b[0m\u001b[0;34m\"below is the same array, though it was made by putting the list itself as done in the previous cell\"\u001b[0m\u001b[0;34m)\u001b[0m\u001b[0;34m\u001b[0m\u001b[0;34m\u001b[0m\u001b[0m\n\u001b[1;32m      5\u001b[0m \u001b[0mprint\u001b[0m\u001b[0;34m(\u001b[0m\u001b[0marray_of_radii\u001b[0m\u001b[0;34m)\u001b[0m\u001b[0;34m\u001b[0m\u001b[0;34m\u001b[0m\u001b[0m\n",
      "\u001b[0;31mNameError\u001b[0m: name 'list_of_radii' is not defined"
     ]
    }
   ],
   "source": [
    "array_of_radii_note   = np.array(list_of_radii)\n",
    "\n",
    "print(array_of_radii_note)\n",
    "print(\"below is the same array, though it was made by putting the list itself as done in the previous cell\")\n",
    "print(array_of_radii)"
   ]
  },
  {
   "cell_type": "markdown",
   "metadata": {},
   "source": [
    "## Checking the length, shape, or size  of your Array\n",
    "When we covered lists, we used Python \"len\" function as follows:\n",
    "\n",
    "> Example_list = [\"pear\",\"apple\",\"cherry\"]<br>\n",
    "> print(len(example_list))\n",
    "\n",
    "Arrays have a variety of built in tools, called attributes. Array attributes allow you to extract information about the array itself. In the code block below, we will see the attribute needed to get information about the shape of your array - which will tell you the length and size of your array."
   ]
  },
  {
   "cell_type": "code",
   "execution_count": 3,
   "metadata": {
    "ExecuteTime": {
     "end_time": "2021-05-26T17:22:44.822301Z",
     "start_time": "2021-05-26T17:22:44.818361Z"
    }
   },
   "outputs": [
    {
     "data": {
      "text/plain": [
       "(4,)"
      ]
     },
     "execution_count": 3,
     "metadata": {},
     "output_type": "execute_result"
    }
   ],
   "source": [
    "example_array = np.array([1, 2, 3, 4])\n",
    "example_array.shape"
   ]
  },
  {
   "cell_type": "markdown",
   "metadata": {},
   "source": [
    "This array attribute is telling you that the array you created is a one-dimensional array of length 4.\n",
    "\n",
    "We can see the format (__or \"syntax\"__) for calling attributes above: Name_of_your_array.attribute\n",
    "\n",
    "There are two other array attributes we will go over:\n",
    "\n",
    "> .size - reports the number of elements in an array <br>\n",
    "> .dtype - reports the data-type of the array’s elements.\n",
    "\n",
    "Lets look at examples for these in the code cells below!"
   ]
  },
  {
   "cell_type": "markdown",
   "metadata": {},
   "source": [
    "#### Array Attributes: Size &  Dtype"
   ]
  },
  {
   "cell_type": "code",
   "execution_count": 8,
   "metadata": {
    "ExecuteTime": {
     "end_time": "2021-05-26T17:26:00.795334Z",
     "start_time": "2021-05-26T17:26:00.790224Z"
    }
   },
   "outputs": [
    {
     "name": "stdout",
     "output_type": "stream",
     "text": [
      "The size of this array is 4\n",
      "\n",
      "The data type for elements in this array are int64\n"
     ]
    }
   ],
   "source": [
    "example_array = np.array([1, 2, 3, 4])\n",
    "print(\"The size of this array is\",example_array.size)\n",
    "print()\n",
    "print(\"The data type for elements in this array are\", example_array.dtype)"
   ]
  },
  {
   "cell_type": "markdown",
   "metadata": {},
   "source": [
    "In the example above we see that size attribute told us the number of elements in our array - 4. In line 4, we see that the dtype attribute told us our array is composed of integer numbers. Python will automatically determine the dtype by the numbers contained in the array. \n",
    "\n"
   ]
  },
  {
   "cell_type": "markdown",
   "metadata": {},
   "source": [
    "#### Creating an Array with a specific data type  \n",
    "You can set the data type manually when you use a \"parameter\" to define the array as done in the example below. A parameter, similar to an attribute, is a place where you can pass information into your code. In the cell below, we can see that \"np.float\" when passed into \"np.array\" will manually change the elements in that array. \n",
    "\n",
    "We won't cover all the other optional arguments, parameters, or attributes that arrays can take, but the following links may be helpful if you want to learn more:\n",
    "\n",
    "> __[Numpy Array Arguments and Paremeters](https://docs.scipy.org/doc/numpy/reference/generated/numpy.array.html)__ <br>\n",
    "> __[Numpy Array Attributes](https://numpy.org/doc/stable/reference/arrays.ndarray.html#array-attributes)__ (search for the \"array attributes\" header)\n"
   ]
  },
  {
   "cell_type": "code",
   "execution_count": 14,
   "metadata": {
    "ExecuteTime": {
     "end_time": "2021-05-26T19:44:48.608658Z",
     "start_time": "2021-05-26T19:44:48.597651Z"
    }
   },
   "outputs": [],
   "source": [
    "example_list = np.array([1, 2, 3, 4], np.float)"
   ]
  },
  {
   "cell_type": "markdown",
   "metadata": {},
   "source": [
    "In the cell below, do the following\n",
    "\n",
    "> Check the dtype again <br>\n",
    "> Print out the array in the cell below\n",
    "\n",
    "What do you think is different from the example under 1.4.0.1?\n",
    "\n",
    "__your answer here:__\n",
    "\n"
   ]
  },
  {
   "cell_type": "code",
   "execution_count": null,
   "metadata": {},
   "outputs": [],
   "source": [
    "example_list = np.array([1, 2, 3, 4], np.float)\n",
    "\n",
    "# Your code here\n",
    "\n",
    "\n",
    "\n"
   ]
  },
  {
   "cell_type": "markdown",
   "metadata": {},
   "source": [
    "#### Common Mistake when Making an Array "
   ]
  },
  {
   "cell_type": "markdown",
   "metadata": {},
   "source": [
    "A common mistake to avoid is calling array with multiple numeric arguments, rather than providing a single list of numbers as an argument:\n",
    "\n",
    "> example_array = np.array(1, 2, 3, 4)               # __Incorrect__\n",
    "\n",
    "> example_array = np.array([1, 2, 3, 4])             # __Correct__\n",
    "\n",
    "__note:__ In the incorrect example, there are __missing square brackets__ to let numpy know 1,2,3,4 is a list [ 1,2,3,4].\n",
    "In the __correct__ example, there are brackets around 1,2,3,4, which lets numpy know it is a list.\n",
    "\n",
    "Try out the incorrect way in the cell below and see what happens."
   ]
  },
  {
   "cell_type": "code",
   "execution_count": 9,
   "metadata": {
    "ExecuteTime": {
     "end_time": "2021-05-26T18:21:07.828316Z",
     "start_time": "2021-05-26T18:21:07.599142Z"
    }
   },
   "outputs": [
    {
     "ename": "TypeError",
     "evalue": "array() takes from 1 to 2 positional arguments but 4 were given",
     "output_type": "error",
     "traceback": [
      "\u001b[0;31m---------------------------------------------------------------------------\u001b[0m",
      "\u001b[0;31mTypeError\u001b[0m                                 Traceback (most recent call last)",
      "\u001b[0;32m<ipython-input-9-0ef779692c25>\u001b[0m in \u001b[0;36m<module>\u001b[0;34m\u001b[0m\n\u001b[0;32m----> 1\u001b[0;31m \u001b[0mexample_array\u001b[0m \u001b[0;34m=\u001b[0m \u001b[0mnp\u001b[0m\u001b[0;34m.\u001b[0m\u001b[0marray\u001b[0m\u001b[0;34m(\u001b[0m\u001b[0;36m1\u001b[0m\u001b[0;34m,\u001b[0m \u001b[0;36m2\u001b[0m\u001b[0;34m,\u001b[0m \u001b[0;36m3\u001b[0m\u001b[0;34m,\u001b[0m \u001b[0;36m4\u001b[0m\u001b[0;34m)\u001b[0m\u001b[0;34m\u001b[0m\u001b[0;34m\u001b[0m\u001b[0m\n\u001b[0m",
      "\u001b[0;31mTypeError\u001b[0m: array() takes from 1 to 2 positional arguments but 4 were given"
     ]
    }
   ],
   "source": [
    "example_array = np.array(1, 2, 3, 4)"
   ]
  },
  {
   "cell_type": "markdown",
   "metadata": {},
   "source": [
    "You can combine multiple lists together to create two-dimensional arrays by enclosing a sequence of sequences inside another set of parentheses, separated by commas, as shown below (everything within the inner set of parentheses is to be interpreted as the actual components of the array):"
   ]
  },
  {
   "cell_type": "code",
   "execution_count": 4,
   "metadata": {},
   "outputs": [],
   "source": [
    "b = np.array(([1, 2, 3, 4, 5], [6, 7, 8, 9, 10]))"
   ]
  },
  {
   "cell_type": "markdown",
   "metadata": {},
   "source": [
    "What is the shape of this array? In the cell below, try creating an array containing 4 rows and 2 columns (shape(4,2))."
   ]
  },
  {
   "cell_type": "code",
   "execution_count": null,
   "metadata": {},
   "outputs": [],
   "source": []
  },
  {
   "cell_type": "markdown",
   "metadata": {},
   "source": [
    "If you have Python lists defined, you can also convert them into a NumPy array like this:"
   ]
  },
  {
   "cell_type": "code",
   "execution_count": 5,
   "metadata": {},
   "outputs": [],
   "source": [
    "list1 = [1, 2, 3, 4, 5]\n",
    "list2 = [6, 7, 8, 9, 10]\n",
    "b = np.array((list1, list2))"
   ]
  },
  {
   "cell_type": "markdown",
   "metadata": {},
   "source": [
    "Again, note the additional inner parentheses required when using a __sequence__ of lists."
   ]
  },
  {
   "cell_type": "markdown",
   "metadata": {},
   "source": [
    "### Indexing and Slicing\n",
    "\n",
    "To reference elements of a simple one-dimensional array, you can use syntax just like you used for Python lists:"
   ]
  },
  {
   "cell_type": "code",
   "execution_count": 6,
   "metadata": {},
   "outputs": [
    {
     "name": "stdout",
     "output_type": "stream",
     "text": [
      "6\n"
     ]
    }
   ],
   "source": [
    "a = np.array([2, 4, 6, 8])\n",
    "print(a[2])                # This should print out the third array element (6)\n"
   ]
  },
  {
   "cell_type": "markdown",
   "metadata": {},
   "source": [
    "When you have two-dimensional arrays, you use one index per axis, separated by a comma:"
   ]
  },
  {
   "cell_type": "code",
   "execution_count": 7,
   "metadata": {},
   "outputs": [
    {
     "name": "stdout",
     "output_type": "stream",
     "text": [
      "10\n"
     ]
    }
   ],
   "source": [
    "b = np.array(([1, 2, 3, 4, 5], [6, 7, 8, 9, 10]))\n",
    "print(b[1,4])          # This should print out the number 10"
   ]
  },
  {
   "cell_type": "markdown",
   "metadata": {},
   "source": [
    "The first index (here, 1) indicates which sequence or vector we are referencing, and the second index (here, 4) indicates which element in that vector. A three-dimensional array would require three indices to access a single element, and so on. In this course, we won't go beyond 2-D arrays, but if you want to learn more about working with N-dimensional arrays, checkout this __[tutorial](https://docs.scipy.org/doc/numpy/user/quickstart.html)__.\n",
    "\n",
    "What happens when you list just one index when referencing your two-dimensional array? \n",
    "Try it out in the cell below:"
   ]
  },
  {
   "cell_type": "code",
   "execution_count": null,
   "metadata": {},
   "outputs": [],
   "source": []
  },
  {
   "cell_type": "markdown",
   "metadata": {},
   "source": [
    "Array slicing is a bit trickier. The general syntax for a slice is \n",
    "> array[start:stop:step, start:stop:step, ...]\n",
    "\n",
    "depending on the dimensions of the array. Any or all of the values start, stop, and step may be left out (and if step is left out the colon in front of it may also be left out). Again, this syntax works similarly to Python lists, except now we may have more than one axis to reference. You may need a bit of practice to get used to how array slicing works, so here we go.\n",
    "\n"
   ]
  },
  {
   "cell_type": "markdown",
   "metadata": {},
   "source": [
    "## Practice\n",
    "\n",
    "Try out the following in the cell below:\n",
    "\n",
    "> 1. Create any 4x5 array and assign it to the variable \"a\"<br>\n",
    "> 2. Do you know what a[1] will equal? Print to check.<br>\n",
    "> 3. Knowing the basic syntax for slicing, array[start:stop:step, start:stop:step, ...], can you predict the output of these slices? Take a guess first, then print each of the following to check.<br>\n",
    ">>a[:, 3]<br>\n",
    ">>a[1:4, 2:5]<br>\n",
    ">>a[1:, 2]<br>\n",
    ">>a[::2, ::-1]<br>"
   ]
  },
  {
   "cell_type": "markdown",
   "metadata": {},
   "source": [
    "## Functions for Generating Arrays\n",
    "\n",
    "Sometimes you know you want to create an array of a certain size, but you don't yet know the numbers that will fill it. Hence, NumPy offers several functions to create arrays with initial placeholder content (such as all zeros). Take a look at the output of the two examples below by assiging each line to a variable and printing it in the cell below.\n",
    "\n",
    ">np.zeros((3,4))    # creates an array of shape (3,4) filled with zeros<br>\n",
    ">np.ones((5,2))     # creates an array of shape (5,2) filled with ones<br>"
   ]
  },
  {
   "cell_type": "code",
   "execution_count": null,
   "metadata": {},
   "outputs": [],
   "source": []
  },
  {
   "cell_type": "markdown",
   "metadata": {},
   "source": [
    "Sometimes you'll want to create an array with a sequence of automatically generated numbers. This can be useful for plotting, as well as for many other applications. \n",
    "\n",
    "One way to do this is with the very useful NumPy function linspace. Most often, you'll want to provide three arguments (but there are additional arguments you can include): \n",
    ">linspace(min, max, num) \n",
    "\n",
    "The arguments min and max specify the range of linear space you want to include), and num specifies how many numbers you want to select over that space. You can leave out the third argument, and you'll get the default number of points of 50. The code snippet below shows how it works."
   ]
  },
  {
   "cell_type": "code",
   "execution_count": 8,
   "metadata": {},
   "outputs": [],
   "source": [
    "np.linspace(0,10)                      # 50 (default) linearly-spaced numbers from 0 to 10\n",
    "np.linspace(0,10,200)                  # With 3 arguments, this generates 200 numbers should generated\n",
    "x = np.linspace(0, 2*np.pi, 100)       # This is helpful, for example, if you wanted to plot the sin( ) function"
   ]
  },
  {
   "cell_type": "markdown",
   "metadata": {},
   "source": [
    "Note that since we've imported NumPy previously, we can reference the value of pi with np.pi. \n",
    "\n",
    "It's very common to need to generate a bunch of random numbers, whether integers or floats. Again, NumPy has functions for that, too. \n",
    "\n",
    "> np.random.randint(5,100,20) &nbsp; &nbsp; # 1D array of 20 integers drawn uniformly over range [5,100) (excluding 100)<br>\n",
    "\n",
    "> np.random.randint(-10,10,(3,5)) &nbsp; &nbsp; # array of shape (3,5) with integers over range [5,100) (excluding 100)<br>\n",
    "\n",
    "> np.random.random(25) &nbsp; &nbsp; # 1D array of 25 floats drawn uniformly from [0,1) (excluding 1)<br>\n",
    "\n",
    "> np.random.random((3,5)) &nbsp; &nbsp; # array of shape (3,5) with floats drawn uniformly from [0,1) (excluding 1)<br>\n",
    "\n",
    "> np.random.uniform(5,20,100)    # array of 100 floats drawn from range [5,20) (excluding 20) <br>"
   ]
  },
  {
   "cell_type": "markdown",
   "metadata": {},
   "source": [
    "### Basic Array Operations\n",
    "\n",
    "As a final note, NumPy provides familiar mathematical functions such as sin, cos, and exp. In NumPy, these are called universal functions. Within NumPy, these functions operate elementwise on an array, producing an array as output. Similarly, basic arithmetic operations act elementwise on arrays, such as addition, subtraction, multiplication, division, and exponentiation. Please note that array multiplication in NumPy is not matrix multiplication (aka dot product, but this can be done via the dot function. For two arrays a and b, these operations work as follows:\n",
    "\n",
    "> np.sin(a)           &nbsp; &nbsp; &nbsp; &nbsp; # elementwise computation of the sin of each element<br>\n",
    "> a+b                 &nbsp; &nbsp; &nbsp; &nbsp; # elementwise addition of the arrays<br>\n",
    "> a&ast;&ast;3               &nbsp; &nbsp; &nbsp; &nbsp; # elementwise exponentiation of each number in the array<br>\n",
    "> a&ast;b                &nbsp; &nbsp; &nbsp; &nbsp; # elementwise multiplication of the elements of the array<br>\n",
    "> np.dot(a,b)         &nbsp; &nbsp; &nbsp; &nbsp; # matrix multiplication, or dot product, of the arrays<br>\n",
    "> a.sum()             &nbsp; &nbsp; &nbsp; &nbsp; # returns the sum of all elements of the array<br>\n",
    "> (a&ast;b).sum()         &nbsp; &nbsp; &nbsp; &nbsp; # in one step, multiply the elements of two arrays, then sum the result<br>\n",
    "> a.min()             &nbsp; &nbsp; &nbsp; &nbsp; # returns the min value of the array<br>\n",
    "> a.max()             &nbsp; &nbsp; &nbsp; &nbsp; # returns the max value of the array<br>\n",
    "> a.argmax()          &nbsp; &nbsp; &nbsp; &nbsp; # returns the index of the max value of the array<br>\n",
    "> a.std()             &nbsp; &nbsp; &nbsp; &nbsp; # returns the standard deviation of the array of numbers<br>"
   ]
  },
  {
   "cell_type": "markdown",
   "metadata": {},
   "source": [
    "## Practice\n",
    "\n",
    "In the cell below, generate an array shape (5,4) fill with random data and perform each of the operations listed above."
   ]
  },
  {
   "cell_type": "code",
   "execution_count": null,
   "metadata": {},
   "outputs": [],
   "source": []
  },
  {
   "cell_type": "markdown",
   "metadata": {},
   "source": [
    "With NumPy being as powerful as it is, we recommend that you check out the NumPy __[user guide](https://docs.scipy.org/doc/numpy/user/index.html#user)__ for a more thorough introduction. Google can often help you find what you are looking for too!\n",
    "\n",
    "## Takeaways\n",
    "\n",
    "> - There are many different ways to create arrays: np.array, np.zeroes, np.ones, np.linspace, np.random.randint, np.random.random, and several others.<br>\n",
    "> - Indexing and slicing arrays work very much the same way it does for Python lists.<br>\n",
    "> - There are tons of useful functions for operating on arrays, including doing element-wise operations, computing sums or other array-wide quantities, and more complex operations, like computing the dot product.<br>"
   ]
  }
 ],
 "metadata": {
  "kernelspec": {
   "display_name": "Python 3",
   "language": "python",
   "name": "python3"
  },
  "language_info": {
   "codemirror_mode": {
    "name": "ipython",
    "version": 3
   },
   "file_extension": ".py",
   "mimetype": "text/x-python",
   "name": "python",
   "nbconvert_exporter": "python",
   "pygments_lexer": "ipython3",
   "version": "3.7.1"
  },
  "toc": {
   "base_numbering": 1,
   "nav_menu": {},
   "number_sections": true,
   "sideBar": true,
   "skip_h1_title": false,
   "title_cell": "Table of Contents",
   "title_sidebar": "Contents",
   "toc_cell": false,
   "toc_position": {},
   "toc_section_display": true,
   "toc_window_display": false
  },
  "varInspector": {
   "cols": {
    "lenName": 16,
    "lenType": 16,
    "lenVar": 40
   },
   "kernels_config": {
    "python": {
     "delete_cmd_postfix": "",
     "delete_cmd_prefix": "del ",
     "library": "var_list.py",
     "varRefreshCmd": "print(var_dic_list())"
    },
    "r": {
     "delete_cmd_postfix": ") ",
     "delete_cmd_prefix": "rm(",
     "library": "var_list.r",
     "varRefreshCmd": "cat(var_dic_list()) "
    }
   },
   "types_to_exclude": [
    "module",
    "function",
    "builtin_function_or_method",
    "instance",
    "_Feature"
   ],
   "window_display": false
  }
 },
 "nbformat": 4,
 "nbformat_minor": 2
}
