{
 "cells": [
  {
   "cell_type": "markdown",
   "metadata": {},
   "source": [
    "# Section 2.2 | Loops and List Comprehension\n",
    "\n",
    "Let's go a bit further with Python lists and see how we can use them to create for loops. You may remember \"for loops\" from [Module 1: Section 4](https://github.com/bueno646/CIERA-HS-Program-2021/blob/master/IDEASpy-Mike-Updates/Module_1/Section_4_conditional_statements_and_loops.ipynb). We will also introduce \"list comprehension\", how they can simplify your life, and how we can read data from files into lists.\n",
    "\n",
    "__why should you care about list comprehensions__: They allow for you to both quickly access (or \"parse\") data stored in lists and to write more condensed code! \n",
    "\n",
    "## For Loops Refresher\n",
    "\n",
    "In Module 1, you learned to construct for loops to repeat a series of steps over a predefined number of times, e.g., for each item x in example_list where example_list contains 4 items [Module 1: Section 4](https://github.com/bueno646/CIERA-HS-Program-2021/blob/master/IDEASpy-Mike-Updates/Module_1/Section_4_conditional_statements_and_loops.ipynb). Another way to repeat a sequence of steps is through a for loop, in which you repeat (or \"iterate\") over a predefined sequence, such as a Python list. As a reminder, here is the general structure for a for loop:\n",
    "\n",
    "> example_list = [2,4,6,8]\n",
    "> for temporary_variable in example_list:<br>\n",
    "> &nbsp; &nbsp; &nbsp;    print(temporary_variable)\n",
    "\n",
    "Try running this code in the cell below!"
   ]
  },
  {
   "cell_type": "code",
   "execution_count": 2,
   "metadata": {
    "ExecuteTime": {
     "end_time": "2021-05-20T18:05:13.463184Z",
     "start_time": "2021-05-20T18:05:13.458657Z"
    }
   },
   "outputs": [
    {
     "name": "stdout",
     "output_type": "stream",
     "text": [
      "2\n",
      "4\n",
      "6\n",
      "8\n"
     ]
    }
   ],
   "source": [
    "example_list = [2,4,6,8] \n",
    "\n",
    "for temporary_variable in example_list:\n",
    "    \n",
    "    print(temporary_variable)"
   ]
  },
  {
   "cell_type": "markdown",
   "metadata": {},
   "source": [
    "__Explanation__:<br>\n",
    "\"temporary_variable\" in the cell above is a variable the for loop uses as it goes through the items in the sequence \"example_list\". Starting with the 0th element in example_list, the int 2, the for loop saves this element as \"temporary_variable\". The for loop then does what we tell it to - print \"temporary_variable\" in line 5. After this temporary_variable is printed, the for loop starts over again with the next element in example_list - the int 4 - being saved as the \"temporary_variable\" because there are no other commands after the print statement. Everything under line 3 in the cell above is repeated for each item in \"example_list\".\n"
   ]
  },
  {
   "cell_type": "markdown",
   "metadata": {},
   "source": [
    "### Quick note on variable names\n",
    "It is important to be careful with the different names you use in your code! It can be helpful to name your variables in a way that helps prevent you from accidently reusing variables later on! Unknowningly reusing a  variable that you used earlier can lead to bugs in your code that can be difficult to find! In our example from above, the temporary variable \"temporary_variable\" will remain assigned to the last element in the python list it was iterating over. Run the cell below to see for yourself!"
   ]
  },
  {
   "cell_type": "code",
   "execution_count": 5,
   "metadata": {
    "ExecuteTime": {
     "end_time": "2021-05-20T18:30:58.577257Z",
     "start_time": "2021-05-20T18:30:58.573766Z"
    }
   },
   "outputs": [
    {
     "name": "stdout",
     "output_type": "stream",
     "text": [
      "8\n"
     ]
    }
   ],
   "source": [
    "print(temporary_variable)"
   ]
  },
  {
   "cell_type": "markdown",
   "metadata": {},
   "source": [
    "##  Grabbing indices for an iterable object\n",
    "\n",
    "We can also iterate over the indices of the list (e.g., for a list of 4 elements, or length 4, the indices are 0, 1, 2, and 3). Within the loop, we reference the items by the list name and the index variable. You may find it helpful to revist our discussion on indexing in 1.3 of [Module 2: Section 1](https://github.com/bueno646/CIERA-HS-Program-2021/blob/master/IDEASpy-Mike-Updates/Module_2/Section_1.ipynb).  "
   ]
  },
  {
   "cell_type": "markdown",
   "metadata": {},
   "source": [
    "### Using the enumerate( ) function to access (or 'parse', 'iterate over' etc) your data\n",
    "__why should I care?__\n",
    "\n",
    "Using enumerate allows you to access your data stored in an iterable object (like a list) while also keeping track of the indices for that iterable object. Lets use an example to illustrate the utility of enumerate( )\n",
    "\n",
    "## Walkthrough: Enumerate( )\n",
    "\n",
    "__Context__:\n",
    "\n",
    "You, an astronomer, are give a data set of 1000 stellar temperatures. Within those stellar temperatures, you want to make a subset of sun like stars - stars with temperatures between 5300 K and 6000 K. Before you try your code on the entire data set, you want to try it on a smaller portion of this data (a 'subset') - 10 data points. \n",
    "\n",
    "__Situation__: \n",
    "\n",
    "You are going to use the enumerate( ) function to iterate over the data in your subset. You will also use conditional operators (from [Module 1: Section 4](https://github.com/bueno646/CIERA-HS-Program-2021/blob/master/IDEASpy-Mike-Updates/Module_1/Section_4_conditional_statements_and_loops.ipynb)) to check each data point if between 5300 K and 6000 K. If the data point is within this temperature range, we will add this index to a list (this list will be empty to start). We will then use that list of indices _to make a copy of the subset that is __Only__ sun like stars_."
   ]
  },
  {
   "cell_type": "markdown",
   "metadata": {},
   "source": [
    "### Stellar Temperature Data Subset\n",
    "Below is the data subset"
   ]
  },
  {
   "cell_type": "code",
   "execution_count": 10,
   "metadata": {
    "ExecuteTime": {
     "end_time": "2021-05-28T16:03:42.095797Z",
     "start_time": "2021-05-28T16:03:42.093403Z"
    }
   },
   "outputs": [],
   "source": [
    "stellar_data_kelvin_subset = [5600,5000,6500,6600,3000,5708,7000,6300,5200,5900]\n"
   ]
  },
  {
   "cell_type": "markdown",
   "metadata": {},
   "source": [
    "### Enumerate( ) Format (or \"syntax\")\n",
    "Lets take a look at the format for the enumerate( ) function so we know how to use it correctly!\n",
    "\n",
    "There are functionally two syntaxes that are most important to know for the enumerate function - the syntax for the enumerate function itself and how it is used in loops. \n",
    "\n",
    "Lets look at the syntax of the enumerate function itself first:\n",
    "\n",
    "> enumerate(iterable_object, start_index)   # the default starting index is 0 (i.e it will start with the 0th element unless you tell it otherwise)\n",
    "\n",
    "__Note:__ \"iterable_object\" and \"start_index\" are not the actual names of the arguments that enumerate takes. They are slightly more explicit versions of the arguments that enumerate takes - \"iterable\" and \"start\". \n",
    "\n",
    "\n",
    "In the code below, lets see how that would look with an actual iterable object - like our stellar data subset. \n"
   ]
  },
  {
   "cell_type": "code",
   "execution_count": 4,
   "metadata": {
    "ExecuteTime": {
     "end_time": "2021-05-28T15:49:19.048108Z",
     "start_time": "2021-05-28T15:49:19.035339Z"
    }
   },
   "outputs": [
    {
     "data": {
      "text/plain": [
       "<enumerate at 0x7fa866b53a40>"
      ]
     },
     "execution_count": 4,
     "metadata": {},
     "output_type": "execute_result"
    }
   ],
   "source": [
    "enumerate(stellar_data_kelvin_subset)"
   ]
  },
  {
   "cell_type": "markdown",
   "metadata": {},
   "source": [
    "Executing the code cell above will produce some text on your screen that is not helpful. Lets use a loop to make enumerate more useful. When we iterate over an enumerated object (like in the code cell above) we can get __two__ object instead of one (like in the code example below section 1.1 of this notebook)\n",
    "\n",
    "Lets now look at this syntax below:\n",
    "\n",
    "> for index,element in enumerate(stellar_data_kelvin_subset): <br>\n",
    "> &nbsp; &nbsp; &nbsp;    print(\"the index is\",index) <br>\n",
    "> &nbsp; &nbsp; &nbsp;    print(\"the element at that index is\",element) <br>\n",
    "> &nbsp; &nbsp; &nbsp;    print( ) # this empty print statement will make the output of the print statements above easier to read\n",
    "\n",
    "__Note:__ our temporary variables are now \"index\" and \"element\". We could choose any name for these variables, but are using these to help remember that the two objects you get from looping over an enumerated object are the index for an element and the element itself.\n",
    "\n",
    "Lets take a look at this syntax in action. We will use the syntax above for just the first three elements, so we can see the outputs of the print statements more easily. "
   ]
  },
  {
   "cell_type": "code",
   "execution_count": 9,
   "metadata": {
    "ExecuteTime": {
     "end_time": "2021-05-28T16:02:53.401976Z",
     "start_time": "2021-05-28T16:02:53.396893Z"
    }
   },
   "outputs": [
    {
     "name": "stdout",
     "output_type": "stream",
     "text": [
      "the index is 0\n",
      "the element at that index is 5600\n",
      "\n",
      "the index is 1\n",
      "the element at that index is 5000\n",
      "\n",
      "the index is 2\n",
      "the element at that index is 6500\n",
      "\n"
     ]
    }
   ],
   "source": [
    "# placing subset here for your reference\n",
    "stellar_data_kelvin_subset = [5600,5000,6500,6600,3000,5708,7000,6300,5200,5900]\n",
    "\n",
    "# note the slice below - we are just iterating over the first 3 objects in our subset\n",
    "for index,element in enumerate(stellar_data_kelvin_subset[:3]):\n",
    "    print(\"the index is\",index)\n",
    "    print(\"the element at that index is\",element)\n",
    "    print() # this empty print statement will make the output of the print statements above easier to read"
   ]
  },
  {
   "cell_type": "markdown",
   "metadata": {},
   "source": [
    "### Using Range( ) and len( ) to grab indices\n",
    "We can quickly grab indices for a list using two familiar functions: len() and range(). \n",
    "\n",
    "As a refresher, here is a brief explanation of the range function and an example of it being used on the integer 10.\n",
    "\n",
    "__Brief Explanation__:<br>\n",
    "range(max_number) : returns an __iterable__ object consisting of numbers from 0 up to max_number - 1<br>\n"
   ]
  },
  {
   "cell_type": "markdown",
   "metadata": {},
   "source": [
    "#### Range Example"
   ]
  },
  {
   "cell_type": "code",
   "execution_count": 19,
   "metadata": {
    "ExecuteTime": {
     "end_time": "2021-05-20T18:52:41.855971Z",
     "start_time": "2021-05-20T18:52:41.849899Z"
    }
   },
   "outputs": [
    {
     "name": "stdout",
     "output_type": "stream",
     "text": [
      "0\n",
      "1\n",
      "2\n",
      "3\n",
      "4\n",
      "5\n",
      "6\n",
      "7\n",
      "8\n",
      "9\n"
     ]
    }
   ],
   "source": [
    "range(10)  # this is the iterable object\n",
    "\n",
    "## Lets use a for loop on this object to see what is in it\n",
    "\n",
    "for ii in range(10):\n",
    "    print (ii)"
   ]
  },
  {
   "cell_type": "markdown",
   "metadata": {
    "ExecuteTime": {
     "end_time": "2021-05-20T18:52:29.500873Z",
     "start_time": "2021-05-20T18:52:29.494597Z"
    }
   },
   "source": [
    "__Range Example Explanation__: <br>\n",
    "As noted in 1.2.1, the range function return an iterable object consisting of the number 0 up to the max_number (10 in this) minus 1. The outputs of 1.2.2 confirm this, as we see 0-9 printed.\n",
    "\n"
   ]
  },
  {
   "cell_type": "markdown",
   "metadata": {},
   "source": [
    "### How to quickly grab indices for a list (Cont.)\n",
    "In the example above we saw that the range function can return an interable object of numbers based on the number passed into it. We can use this to our advantage by combining it with the len function. Lets look at the code below to illustrate this"
   ]
  },
  {
   "cell_type": "code",
   "execution_count": 20,
   "metadata": {
    "ExecuteTime": {
     "end_time": "2021-05-20T18:59:24.515352Z",
     "start_time": "2021-05-20T18:59:24.509082Z"
    }
   },
   "outputs": [
    {
     "name": "stdout",
     "output_type": "stream",
     "text": [
      "The 0 th index corresponds to the element 2\n",
      "The 1 th index corresponds to the element 4\n",
      "The 2 th index corresponds to the element 6\n",
      "The 3 th index corresponds to the element 8\n"
     ]
    }
   ],
   "source": [
    "example_list = [2,4,6,8]\n",
    "\n",
    "for ii in range(len(example_list)):   # ii is a temp variable\n",
    "    \n",
    "    print(\"The\", ii,\"th index corresponds to the element\", example_list[ii])\n",
    "    \n",
    "          # Reference list values via the list name and indices"
   ]
  },
  {
   "cell_type": "code",
   "execution_count": null,
   "metadata": {},
   "outputs": [],
   "source": [
    "example_list = [2,4,6,8]\n",
    "\n",
    "for ii in range(len(example_list)):   # ii is a temp variable\n",
    "    # here is what happening in the line above...\n",
    "    print(\"The\", ii,\"th index corresponds to the element\", example_list[ii])\n",
    "    # same thing...\n",
    "          # Reference list values via the list name and indices"
   ]
  },
  {
   "cell_type": "markdown",
   "metadata": {},
   "source": [
    "## List comprehension\n",
    "\n",
    "List comprehension is a powerful tool for doing concise operations on lists or even to create new lists. As we'll talk about a bit later, besides making your code more concise, using list comprehension can also make your code run more efficiently.\n",
    "\n",
    "Let's see how we can write a for loop via list comprehension:"
   ]
  },
  {
   "cell_type": "code",
   "execution_count": 1,
   "metadata": {
    "ExecuteTime": {
     "end_time": "2021-05-21T15:47:11.618938Z",
     "start_time": "2021-05-21T15:47:11.613297Z"
    }
   },
   "outputs": [
    {
     "name": "stdout",
     "output_type": "stream",
     "text": [
      "[2, 4, 6, 8]\n",
      "[20, 40, 60, 80]\n"
     ]
    }
   ],
   "source": [
    "my_list = [2, 4, 6, 8]\n",
    "print([item for item in my_list])       # Prints the items in the list without need for a for loop\n",
    "print([item*10 for item in my_list])    # This will print each item multiplied by 10"
   ]
  },
  {
   "cell_type": "markdown",
   "metadata": {},
   "source": [
    "And, another way to do the exact same thing, by iterating over the indices of the list:"
   ]
  },
  {
   "cell_type": "code",
   "execution_count": null,
   "metadata": {},
   "outputs": [],
   "source": [
    "my_list = [2, 4, 6, 8]\n",
    "print([my_list[i] for i in range(len(my_list))])\n",
    "print([my_list[i]*10 for i in range(len(my_list))])"
   ]
  },
  {
   "cell_type": "markdown",
   "metadata": {},
   "source": [
    "List comprehension can be a bit trickier to understand because it's compressing the code down to the bare minimum; that's also the power of list comprehension, and why it's worth understanding it well. "
   ]
  },
  {
   "cell_type": "markdown",
   "metadata": {},
   "source": [
    "## Practice\n",
    "\n",
    "In the cell below, you'll work with a list of the distances of our nearest stars (excluding the Sun!). Using both a for loop and list comprehension, you'll be converting the star distances from light years (Ly) to parsecs (pc), another common measurement of distance in astronomy. Hint: 1 Ly = 0.306601 pc"
   ]
  },
  {
   "cell_type": "code",
   "execution_count": null,
   "metadata": {},
   "outputs": [],
   "source": [
    "# List nearest stars distances in light years\n",
    "distances = [4.2, 4.2, 4.4, 5.9, 7.8]\n",
    "\n",
    "# By the way, the names of these stars nearest stars are:\n",
    "# (1) Proxima Centauri, (2) Alpha Centauri A, (3) Alpha Centauri B, \n",
    "# (4) Barnard's Star and (5) Wolf 359\n",
    "# Alpha Cen A and B are technically part of a single star system\n",
    "\n",
    "# Conversion factor - from ly to pc\n",
    "ly_to_pc = 0.306601\n",
    "\n",
    "# Write a FOR LOOP to print each star distance in units of pc using the conversion factor above\n",
    "for FILL IN CODE\n",
    "    FILL IN CODE \n",
    "    \n",
    "# Now, print off the distances in units of pc again, but this time using LIST COMPREHENSION\n",
    "print('distances in pc:', FILL IN CODE)\n",
    "\n",
    "# In the above code, we printed the converted values, but we didn't SAVE the converted values\n",
    "\n",
    "# Using a FOR LOOP, create a NEW list to store the distances in pc, called distances_pc\n",
    "distances_pc = FILL IN CODE    # must first create the new empty list\n",
    "for i in FILL IN CODE:   # here we set up temp variable i for iterating\n",
    "    FILL IN CODE    # hint: use append\n",
    "\n",
    "# Alternatively, we can change the values of our original list so that all values are in pc\n",
    "for i in FILL IN CODE:\n",
    "    distances[i] = FILL IN CODE\n",
    "\n",
    "# Print out the new list distances_pc and the modified distances array\n",
    "# They SHOULD be identical!\n",
    "print('distances_pc =', FILL IN CODE)\n",
    "print('distances in pc =', FILL IN CODE)\n",
    "\n",
    "# Now, perform the same two tasks using LIST COMPREHENSION\n",
    "# First, let's reset back to our original list in light years\n",
    "distances = [4.2, 4.2, 4.4, 5.9, 7.8]\n",
    "\n",
    "# Using LIST COMPREHENSION, create a NEW list to store the distances in pc, called distances_pc\n",
    "distances_pc = FILL IN CODE\n",
    "\n",
    "# Using LIST COMPREHENSION, change the values of our original list so that all values are in pc\n",
    "distances = FILL IN CODE\n",
    "\n",
    "\n",
    "# Print out the new list distances_pc and the modified distances array\n",
    "# Again, they SHOULD be identical!\n",
    "print('distances_pc =', FILL IN CODE)\n",
    "print('distances in pc =', FILL IN CODE)"
   ]
  },
  {
   "cell_type": "markdown",
   "metadata": {},
   "source": [
    "## Takeaways\n",
    "\n",
    "> - As an alternative to while loops, for loops are even more common and more flexible when it comes to looping in Python<br>\n",
    "> - For loops allow you to iterate over a range of pre-determined numbers, or a list of non-numeric items (e.g., every student name in a list)<br>\n",
    "> - List comprehension is a bit tricky to learn but so powerful that it's probably worth your time to learn to take advantage of it; among other things, it can keep your code clear and concise<br>"
   ]
  },
  {
   "cell_type": "code",
   "execution_count": null,
   "metadata": {},
   "outputs": [],
   "source": []
  }
 ],
 "metadata": {
  "kernelspec": {
   "display_name": "Python 3",
   "language": "python",
   "name": "python3"
  },
  "language_info": {
   "codemirror_mode": {
    "name": "ipython",
    "version": 3
   },
   "file_extension": ".py",
   "mimetype": "text/x-python",
   "name": "python",
   "nbconvert_exporter": "python",
   "pygments_lexer": "ipython3",
   "version": "3.8.8"
  },
  "toc": {
   "base_numbering": 1,
   "nav_menu": {},
   "number_sections": true,
   "sideBar": true,
   "skip_h1_title": false,
   "title_cell": "Table of Contents",
   "title_sidebar": "Contents",
   "toc_cell": false,
   "toc_position": {},
   "toc_section_display": true,
   "toc_window_display": false
  },
  "varInspector": {
   "cols": {
    "lenName": 16,
    "lenType": 16,
    "lenVar": 40
   },
   "kernels_config": {
    "python": {
     "delete_cmd_postfix": "",
     "delete_cmd_prefix": "del ",
     "library": "var_list.py",
     "varRefreshCmd": "print(var_dic_list())"
    },
    "r": {
     "delete_cmd_postfix": ") ",
     "delete_cmd_prefix": "rm(",
     "library": "var_list.r",
     "varRefreshCmd": "cat(var_dic_list()) "
    }
   },
   "types_to_exclude": [
    "module",
    "function",
    "builtin_function_or_method",
    "instance",
    "_Feature"
   ],
   "window_display": false
  }
 },
 "nbformat": 4,
 "nbformat_minor": 2
}
