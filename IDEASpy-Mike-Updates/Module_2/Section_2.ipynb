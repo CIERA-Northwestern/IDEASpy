{
 "cells": [
  {
   "cell_type": "markdown",
   "metadata": {},
   "source": [
    "# Section 2.2 | Loops and List Comprehension\n",
    "\n",
    "Let's go a bit further with Python lists and see how we can use them to create for loops, how list comprehension can simplify your life, and how we can read data from files into lists.\n",
    "\n",
    "## For Loops\n",
    "\n",
    "In Module 1, you learned to construct while loops to repeat a sequence of steps until some condition is met, such as passing through the loop a fixed number of times, e.g., while x < 10. Another way to repeat a sequence of steps is through a for loop, in which you iterate over a predefined sequence, such as a Python list. The general structure for a for loop is as follows:\n",
    "\n",
    "> for temp_variable in some_list:<br>\n",
    "> &nbsp; &nbsp; &nbsp;    do_something_useful\n",
    "\n",
    "Let's look a couple of more descriptive examples of for loops, which can be written in different ways. First, this for loop creates a temp variable item, and on each pass through the loop, the item takes on the next value in this list. We reference the list items by the temp variable, item. "
   ]
  },
  {
   "cell_type": "code",
   "execution_count": null,
   "metadata": {},
   "outputs": [],
   "source": [
    "my_list = [2, 4, 6, 8]\n",
    "for item in my_list:      # The temp variable, item, takes the value of each item in the list\n",
    "    print(item)           # Here we reference the list values via the temp variable"
   ]
  },
  {
   "cell_type": "markdown",
   "metadata": {},
   "source": [
    "We can also iterate over the indices of the list (e.g., for a list of 4 elements, or length 4, the indices are 0, 1, 2, and 3). Within the loop, we reference the items by the list name and the index variable. "
   ]
  },
  {
   "cell_type": "code",
   "execution_count": null,
   "metadata": {},
   "outputs": [],
   "source": [
    "my_list = [2, 4, 6, 8]\n",
    "for i in range(len(my_list)):   # i is a temp variable\n",
    "    print(i)\n",
    "    print(my_list[i])          # Reference list values via the list name and indices"
   ]
  },
  {
   "cell_type": "markdown",
   "metadata": {},
   "source": [
    "## List comprehension\n",
    "\n",
    "List comprehension is a powerful tool for doing concise operations on lists or even to create new lists. As we'll talk about a bit later, besides making your code more concise, using list comprehension can also make your code run more efficiently.\n",
    "\n",
    "Let's see how we can write a for loop via list comprehension:"
   ]
  },
  {
   "cell_type": "code",
   "execution_count": null,
   "metadata": {},
   "outputs": [],
   "source": [
    "my_list = [2, 4, 6, 8]\n",
    "print([item for item in my_list])       # Prints the items in the list without need for a for loop\n",
    "print([item*10 for item in my_list])    # This will print each item multiplied by 10"
   ]
  },
  {
   "cell_type": "markdown",
   "metadata": {},
   "source": [
    "And, another way to do the exact same thing, by iterating over the indices of the list:"
   ]
  },
  {
   "cell_type": "code",
   "execution_count": null,
   "metadata": {},
   "outputs": [],
   "source": [
    "my_list = [2, 4, 6, 8]\n",
    "print([my_list[i] for i in range(len(my_list))])\n",
    "print([my_list[i]*10 for i in range(len(my_list))])"
   ]
  },
  {
   "cell_type": "markdown",
   "metadata": {},
   "source": [
    "List comprehension can be a bit trickier to understand because it's compressing the code down to the bare minimum; that's also the power of list comprehension, and why it's worth understanding it well. "
   ]
  },
  {
   "cell_type": "markdown",
   "metadata": {},
   "source": [
    "## Practice\n",
    "\n",
    "In the cell below, you'll work with a list of the distances of our nearest stars (excluding the Sun!). Using both a for loop and list comprehension, you'll be converting the star distances from light years (Ly) to parsecs (pc), another common measurement of distance in astronomy. Hint: 1 Ly = 0.306601 pc"
   ]
  },
  {
   "cell_type": "code",
   "execution_count": null,
   "metadata": {},
   "outputs": [],
   "source": [
    "# List nearest stars distances in light years\n",
    "distances = [4.2, 4.2, 4.4, 5.9, 7.8]\n",
    "\n",
    "# By the way, the names of these stars nearest stars are:\n",
    "# (1) Proxima Centauri, (2) Alpha Centauri A, (3) Alpha Centauri B, \n",
    "# (4) Barnard's Star and (5) Wolf 359\n",
    "# Alpha Cen A and B are technically part of a single star system\n",
    "\n",
    "# Conversion factor - from ly to pc\n",
    "ly_to_pc = 0.306601\n",
    "\n",
    "# Write a FOR LOOP to print each star distance in units of pc using the conversion factor above\n",
    "for FILL IN CODE\n",
    "    FILL IN CODE \n",
    "    \n",
    "# Now, print off the distances in units of pc again, but this time using LIST COMPREHENSION\n",
    "print('distances in pc:', FILL IN CODE)\n",
    "\n",
    "# In the above code, we printed the converted values, but we didn't SAVE the converted values\n",
    "\n",
    "# Using a FOR LOOP, create a NEW list to store the distances in pc, called distances_pc\n",
    "distances_pc = FILL IN CODE    # must first create the new empty list\n",
    "for i in FILL IN CODE:   # here we set up temp variable i for iterating\n",
    "    FILL IN CODE    # hint: use append\n",
    "\n",
    "# Alternatively, we can change the values of our original list so that all values are in pc\n",
    "for i in FILL IN CODE:\n",
    "    distances[i] = FILL IN CODE\n",
    "\n",
    "# Print out the new list distances_pc and the modified distances array\n",
    "# They SHOULD be identical!\n",
    "print('distances_pc =', FILL IN CODE)\n",
    "print('distances in pc =', FILL IN CODE)\n",
    "\n",
    "# Now, perform the same two tasks using LIST COMPREHENSION\n",
    "# First, let's reset back to our original list in light years\n",
    "distances = [4.2, 4.2, 4.4, 5.9, 7.8]\n",
    "\n",
    "# Using LIST COMPREHENSION, create a NEW list to store the distances in pc, called distances_pc\n",
    "distances_pc = FILL IN CODE\n",
    "\n",
    "# Using LIST COMPREHENSION, change the values of our original list so that all values are in pc\n",
    "distances = FILL IN CODE\n",
    "\n",
    "\n",
    "# Print out the new list distances_pc and the modified distances array\n",
    "# Again, they SHOULD be identical!\n",
    "print('distances_pc =', FILL IN CODE)\n",
    "print('distances in pc =', FILL IN CODE)"
   ]
  },
  {
   "cell_type": "markdown",
   "metadata": {},
   "source": [
    "## Takaways\n",
    "\n",
    "> - As an alternative to while loops, for loops are even more common and more flexible when it comes to looping in Python<br>\n",
    "> - For loops allow you to iterate over a range of pre-determined numbers, or a list of non-numeric items (e.g., every student name in a list)<br>\n",
    "> - List comprehension is a bit tricky to learn but so powerful that it's probably worth your time to learn to take advantage of it; among other things, it can keep your code clear and concise<br>"
   ]
  }
 ],
 "metadata": {
  "kernelspec": {
   "display_name": "Python 3",
   "language": "python",
   "name": "python3"
  },
  "language_info": {
   "codemirror_mode": {
    "name": "ipython",
    "version": 3
   },
   "file_extension": ".py",
   "mimetype": "text/x-python",
   "name": "python",
   "nbconvert_exporter": "python",
   "pygments_lexer": "ipython3",
   "version": "3.6.5"
  }
 },
 "nbformat": 4,
 "nbformat_minor": 2
}
