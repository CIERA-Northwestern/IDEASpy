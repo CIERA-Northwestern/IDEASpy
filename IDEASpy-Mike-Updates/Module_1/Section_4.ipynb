{
 "cells": [
  {
   "cell_type": "markdown",
   "metadata": {},
   "source": [
    "# 1.4 | Conditional Statements and Loops\n",
    "\n",
    "## Conditional Statements\n",
    "\n",
    "We've briefly covered input, output, and calculations, but often we need our code to perform some decision making, just like we have to do each day in real life (if it's cold outside, take a coat; if it's warm, leave the coat at home). These conditionals come in the form of \"if statements\" which can range in complexity (for example, some applications might call for several, or \"nested\", statements).\n",
    "\n",
    "You can think of if statements as asking your computer whether something is True of False (these being the two \"Boolean operators\"). The most common type of numerical questions or checks that you'll be doing are the comparison operators, >, <, and ==, so we'll cover those as well (note that since the single = is reserved for assignment of variables when checking for equality, Python uses ==).\n",
    "\n",
    "### Components of an If statement\n",
    "\n",
    "An if statement typically has two parts: the condition (what is being checked each time) and the action (what is being performed if the condition is met). In general, an if statement will look something like this:\n",
    "\n",
    "> if a_condition_thats_True_or_False:  # This may or may not be True <br>\n",
    ">>    do something_interesting         # So this action may or may not be performed<br>\n",
    "\n",
    "In the next example, the condition is always true (at least in our Universe):\n"
   ]
  },
  {
   "cell_type": "code",
   "execution_count": 4,
   "metadata": {},
   "outputs": [
    {
     "name": "stdout",
     "output_type": "stream",
     "text": [
      "2+2= 4\n",
      "well, that was silly!\n"
     ]
    }
   ],
   "source": [
    "if 2+2:                           # The condition (2+2) is defintely true\n",
    "    print('2+2=', 2+2)             # So this WILL be printed\n",
    "    print('well, that was silly!')  # To perform multiple actions, make sure each action is INDENTED"
   ]
  },
  {
   "cell_type": "markdown",
   "metadata": {},
   "source": [
    "Notice that none of the above examples used any comparison operators (like <,>,etc) - just straight-up True or False checks. Let's look at a few comparison examples, which you may encounter more frequently in your research coding:"
   ]
  },
  {
   "cell_type": "markdown",
   "metadata": {},
   "source": [
    "### Checking for equality between numbers with If Statements"
   ]
  },
  {
   "cell_type": "code",
   "execution_count": 2,
   "metadata": {},
   "outputs": [],
   "source": [
    "# Execute and note what happens (or doesnt happen)!\n",
    "a = 1\n",
    "b = 2\n",
    "c = 3\n",
    "\n",
    "if a == b:    # Note the DOUBLE equal sign, ==, which is for checking for equality\n",
    "    print('the two are the same')"
   ]
  },
  {
   "cell_type": "code",
   "execution_count": 3,
   "metadata": {},
   "outputs": [
    {
     "name": "stdout",
     "output_type": "stream",
     "text": [
      "the value of b is somewhere between that of a and c\n"
     ]
    }
   ],
   "source": [
    "if (a < b) and (b < c):   # Note, your conditional can have multi parts\n",
    "    print('the value of b is somewhere between that of a and c')"
   ]
  },
  {
   "cell_type": "markdown",
   "metadata": {},
   "source": [
    "Think for a moment about how you might use a conditional if statement to code up a statement that will return \"The value of a is smaller than either c or b\". Take a stab at writing and executing the code below!<br>\n",
    "if you get stuck, refer to the previous example of a conditional statement above."
   ]
  },
  {
   "cell_type": "code",
   "execution_count": null,
   "metadata": {},
   "outputs": [],
   "source": []
  },
  {
   "cell_type": "markdown",
   "metadata": {},
   "source": [
    "## Loops\n",
    "\n",
    "Loops are what make computers powerful and useful machines. Without loops, computers would just be really sophisticated adding machines, and not much else. In just about every difficult computational problem, you're going to have to repeat some combination of calculations over an entire set of interesting data.\n",
    "\n",
    "There are two main types of loops, \"for\" loops and \"while\" loops. We'll focus on for loops in this lesson and will revisit for loops again in the next module when we learn about lists. For loops iterate over a fixed list of items, performing a certain set of calculations on each item (for example, computing the final grade for every student in a class roster). <br>\n",
    "\n",
    "Note: Indentation matters in for loops. See the comments in section 1.2.1 for elaboration"
   ]
  },
  {
   "cell_type": "markdown",
   "metadata": {},
   "source": [
    "### For loop examples: Example 1"
   ]
  },
  {
   "cell_type": "code",
   "execution_count": 15,
   "metadata": {},
   "outputs": [
    {
     "name": "stdout",
     "output_type": "stream",
     "text": [
      "1\n",
      "3\n",
      "5\n",
      "8\n"
     ]
    }
   ],
   "source": [
    "# execute this cell \n",
    "example_list = [1,3,5,8]\n",
    "\n",
    "for item in example_list:    #### This line tells python both what you want to call the elements (\"item\")\n",
    "    print(item)              #### of your iterable object (the list \"example_list\")\n",
    "                             #### Note: you can call the elements anything, not necessarily just \"item\"\n",
    "                             #### Note: the 5th line in this cell is indented once, which tells python that \n",
    "                             #### the contents of that line are associated with the for loop initiated \n",
    "                             #### in line 4\n",
    "                             #### Note the colon at the end of line 4. A common bug is forgetting a colon when\n",
    "                             #### initiating a for loop :)"
   ]
  },
  {
   "cell_type": "markdown",
   "metadata": {},
   "source": [
    "### For loop examples: Example 2\n",
    "This version is a more common way that folks write for loops."
   ]
  },
  {
   "cell_type": "code",
   "execution_count": 8,
   "metadata": {},
   "outputs": [
    {
     "name": "stdout",
     "output_type": "stream",
     "text": [
      "one of my favorite numbers is 7\n",
      "one of my favorite numbers is 14\n",
      "one of my favorite numbers is 23\n"
     ]
    }
   ],
   "source": [
    "# Execute this cell\n",
    "\n",
    "favorite_numbers = [7,14,23]\n",
    "\n",
    "for ii in favorite_numbers:\n",
    "    print (\"one of my favorite numbers is\",ii)"
   ]
  },
  {
   "cell_type": "markdown",
   "metadata": {},
   "source": [
    "### For loops & Conditionals: Example \n",
    "It is often useful to have conditions embedded (or nested) within our for loops. This is where indentation\n",
    "is key to making sure your code works the way you want it to!<br>\n",
    "\n",
    "Say that I had a list of numbers and only wanted to print out the negative numbers. Below is an example of one way to do that!"
   ]
  },
  {
   "cell_type": "code",
   "execution_count": 16,
   "metadata": {},
   "outputs": [
    {
     "name": "stdout",
     "output_type": "stream",
     "text": [
      "-1\n",
      "-2\n",
      "-94\n"
     ]
    }
   ],
   "source": [
    "# Execute this cell\n",
    "\n",
    "random_numbers = [-1,4,8,-2,8,91,-94]\n",
    "\n",
    "for aa in random_numbers:\n",
    "    if aa < 0:\n",
    "        print(aa)"
   ]
  },
  {
   "cell_type": "markdown",
   "metadata": {},
   "source": [
    "### Your turn: Writing a for loop \n",
    "\n",
    "In the cell below, try writing a for loop that goes through (or \"iterates over\") a list of 6 random numbers of your choice. Try having your for loop print every item in this list.<br>"
   ]
  },
  {
   "cell_type": "code",
   "execution_count": 9,
   "metadata": {},
   "outputs": [],
   "source": [
    "# your code here"
   ]
  },
  {
   "cell_type": "markdown",
   "metadata": {},
   "source": [
    "### Your turn: For loops and Strings\n",
    "in the cell below, try writing a for loop that iterates over a list of your three favorite fruits, written as strings (with quotations, e.g \"figs\"). Try having your for loop print every item in this list."
   ]
  },
  {
   "cell_type": "code",
   "execution_count": null,
   "metadata": {},
   "outputs": [],
   "source": [
    "# your code here"
   ]
  },
  {
   "cell_type": "markdown",
   "metadata": {},
   "source": [
    "### Your turn: For loops, Strings, and Numbers"
   ]
  },
  {
   "cell_type": "markdown",
   "metadata": {},
   "source": [
    "in the cell below, try writing a for loop that iterates over a list of your three favorite fruits, written as strings (with quotations, e.g \"figs\"), __AND__ three random numbers. Try having your for loop print every item in this list.<br>\n",
    "\n",
    "Do you think the for loop will be able to handle iterating over both numbers and strings that are housed in one list? Why or why not?<br>\n",
    "__Your answer here__: "
   ]
  },
  {
   "cell_type": "code",
   "execution_count": 12,
   "metadata": {},
   "outputs": [],
   "source": [
    "# your code here"
   ]
  },
  {
   "cell_type": "markdown",
   "metadata": {},
   "source": [
    "### Challenge loop:\n",
    "Task: In the cell below, try writing a for loop that uses conditionals to only print out numbers that are bigger than 8 AND also less than 60"
   ]
  },
  {
   "cell_type": "code",
   "execution_count": 14,
   "metadata": {},
   "outputs": [],
   "source": [
    "# your code here"
   ]
  },
  {
   "cell_type": "markdown",
   "metadata": {},
   "source": [
    "## Takeaways\n",
    "\n",
    "> - Conditional statements, such as if statements, allow you to perform different operations depending on whether certain conditions are met. <br>\n",
    "> - Loops, such as for loops, allow you to iterate over a sequence of objects (numbers, strings, etc.) and perform any operations repeatedly. <br>\n",
    "> - By combining loops and conditionals, you can iterate over a sequence and perform the specified operations only when certain conditions are met, rather than on every pass over the loop. <br>"
   ]
  },
  {
   "cell_type": "code",
   "execution_count": null,
   "metadata": {},
   "outputs": [],
   "source": []
  }
 ],
 "metadata": {
  "kernelspec": {
   "display_name": "Python 3",
   "language": "python",
   "name": "python3"
  },
  "language_info": {
   "codemirror_mode": {
    "name": "ipython",
    "version": 3
   },
   "file_extension": ".py",
   "mimetype": "text/x-python",
   "name": "python",
   "nbconvert_exporter": "python",
   "pygments_lexer": "ipython3",
   "version": "3.7.1"
  },
  "toc": {
   "base_numbering": 1,
   "nav_menu": {},
   "number_sections": true,
   "sideBar": true,
   "skip_h1_title": false,
   "title_cell": "Table of Contents",
   "title_sidebar": "Contents",
   "toc_cell": false,
   "toc_position": {},
   "toc_section_display": true,
   "toc_window_display": false
  },
  "varInspector": {
   "cols": {
    "lenName": 16,
    "lenType": 16,
    "lenVar": 40
   },
   "kernels_config": {
    "python": {
     "delete_cmd_postfix": "",
     "delete_cmd_prefix": "del ",
     "library": "var_list.py",
     "varRefreshCmd": "print(var_dic_list())"
    },
    "r": {
     "delete_cmd_postfix": ") ",
     "delete_cmd_prefix": "rm(",
     "library": "var_list.r",
     "varRefreshCmd": "cat(var_dic_list()) "
    }
   },
   "types_to_exclude": [
    "module",
    "function",
    "builtin_function_or_method",
    "instance",
    "_Feature"
   ],
   "window_display": false
  }
 },
 "nbformat": 4,
 "nbformat_minor": 2
}
