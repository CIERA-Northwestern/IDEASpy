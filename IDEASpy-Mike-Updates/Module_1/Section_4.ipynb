{
 "cells": [
  {
   "cell_type": "markdown",
   "metadata": {},
   "source": [
    "# 1.4 | Conditional Statements and Loops\n",
    "\n",
    "## Conditional Statements\n",
    "\n",
    "We've briefly covered input, output, and calculations, but often we need our code to perform some decision making, just like we have to do each day in real life (if it's cold outside, take a coat; if it's warm, leave the coat at home). Or, if a student's grade is between 60 and 70, they're getting a letter grade of a D (and a talking to!). Most often, these conditionals come in the form of straightforward if statements, but even these can range in complexity (for example, some applications might call for complex nested statements).\n",
    "\n",
    "Essentially, an if statement comes down to asking your computer whether something is True of False (these being the two Boolean operators). The most common type of numerical checks you'll be doing are the comparison operators, >, <, and ==, so we'll cover those as well (note that since the single = is reserved for assignment of variables when checking for equality, Python uses ==).\n",
    "\n",
    "### Parts of an If statement\n",
    "\n",
    "An if statement typically has two parts: the condition (what's being checked each time) and the action (what's being performed if the condition is met). In general, an if statement will look something like this:\n",
    "\n",
    "> if a_condition_thats_True_or_False:  # This may or may not be True <br>\n",
    ">>    do something_interesting         # So this action may or may not be performed<br>\n",
    "\n",
    "In the next example, the condition is always true (at least in our Universe):\n"
   ]
  },
  {
   "cell_type": "code",
   "execution_count": 4,
   "metadata": {},
   "outputs": [
    {
     "name": "stdout",
     "output_type": "stream",
     "text": [
      "2+2= 4\n",
      "well, that was silly!\n"
     ]
    }
   ],
   "source": [
    "if 2+2:                           # The condition (2+2) is defintely true\n",
    "    print('2+2=', 2+2)             # So this WILL be printed\n",
    "    print('well, that was silly!')  # To perform multiple actions, make sure each action is INDENTED"
   ]
  },
  {
   "cell_type": "markdown",
   "metadata": {},
   "source": [
    "Notice that none of the above examples used any comparison operators - just straight-up True or False checks. Let's look at a few comparison examples, which you may encounter more frequently in your research coding:"
   ]
  },
  {
   "cell_type": "code",
   "execution_count": 9,
   "metadata": {},
   "outputs": [],
   "source": [
    "a = 1\n",
    "b = 2\n",
    "c = 3\n",
    "\n",
    "if a == b:    # Note the DOUBLE equal sign, ==, which is for checking for equality\n",
    "    print('the two are the same')"
   ]
  },
  {
   "cell_type": "code",
   "execution_count": 10,
   "metadata": {},
   "outputs": [
    {
     "name": "stdout",
     "output_type": "stream",
     "text": [
      "the value of b is somewhere between that of a and c\n"
     ]
    }
   ],
   "source": [
    "if (a < b) and (b < c):   # Note, your conditional can have multi parts\n",
    "    print('the value of b is somewhere between that of a and c')"
   ]
  },
  {
   "cell_type": "markdown",
   "metadata": {},
   "source": [
    "Remember how we mentioned that Python was meant to be readable? Consider the conditional in the last statement: \n",
    "> if (a < b) and (b < c):\n",
    "\n",
    "Think for a moment about how you might code up a statement that will return True if either a < b or a < c. We have full confidence that you can figure that one out! Enter the conditional statement in the cell below:"
   ]
  },
  {
   "cell_type": "code",
   "execution_count": null,
   "metadata": {},
   "outputs": [],
   "source": []
  },
  {
   "cell_type": "markdown",
   "metadata": {},
   "source": [
    "## Loops\n",
    "\n",
    "Loops are what make computers interesting machines. Without loops, computers would just be really sophisticated adding machines, and not much else. In just about every computational problem, you're going to have to repeat some combination of calculations over an entire set of interesting data. Let's recall the seismic data set we introduced at the start of this module - to analyze that data, the researcher will have to compute travel times for each signal received at the many different detectors across the region. This allows them to pinpoint the origin of the earthquake. It's not often that a single data point can tell you much about your research question. \n",
    "\n",
    "There are two main types of loops, such as while loops and for loops. We'll touch on both in this lesson, and return to for loops again in the next module when we learn about lists. For loops iterate over a fixed list of items, performing a certain set of calculations on each item (for example, computing the final grade for every student in a class roster). In contrast, while loops will continue executing a set of commands as long as the condition set at the beginning continues to be met.\n",
    "\n",
    "### while loops\n",
    "\n",
    "The best way to understand a while loop is with a simple example. Imagine we're adding pennies to a jar, and we want to print out our total count of pennies each time we add one. We'd write a loop like this:"
   ]
  },
  {
   "cell_type": "code",
   "execution_count": 17,
   "metadata": {},
   "outputs": [
    {
     "name": "stdout",
     "output_type": "stream",
     "text": [
      "0\n",
      "1\n",
      "2\n",
      "3\n",
      "4\n",
      "5\n",
      "6\n",
      "7\n",
      "8\n",
      "9\n",
      "10\n",
      "11\n",
      "12\n",
      "13\n",
      "14\n",
      "15\n",
      "16\n",
      "17\n",
      "18\n",
      "19\n",
      "20\n",
      "21\n",
      "22\n",
      "23\n",
      "24\n",
      "25\n",
      "26\n",
      "27\n",
      "28\n",
      "29\n",
      "30\n",
      "31\n",
      "32\n",
      "33\n",
      "34\n",
      "35\n",
      "36\n",
      "37\n",
      "38\n",
      "39\n",
      "40\n",
      "41\n",
      "42\n",
      "43\n",
      "44\n",
      "45\n",
      "46\n",
      "47\n",
      "48\n",
      "49\n",
      "50\n",
      "51\n",
      "52\n",
      "53\n",
      "54\n",
      "55\n",
      "56\n",
      "57\n",
      "58\n",
      "59\n",
      "60\n",
      "61\n",
      "62\n",
      "63\n",
      "64\n",
      "65\n",
      "66\n",
      "67\n",
      "68\n",
      "69\n",
      "70\n",
      "71\n",
      "72\n",
      "73\n",
      "74\n",
      "75\n",
      "76\n",
      "77\n",
      "78\n",
      "79\n",
      "80\n",
      "81\n",
      "82\n",
      "83\n",
      "84\n",
      "85\n",
      "86\n",
      "87\n",
      "88\n",
      "89\n",
      "90\n",
      "91\n",
      "92\n",
      "93\n",
      "94\n",
      "95\n",
      "96\n",
      "97\n",
      "98\n",
      "99\n",
      "100\n"
     ]
    }
   ],
   "source": [
    "count = 0   # This variable will keep track of our our penny count, so we start it at zero\n",
    "while count <= 100:    # Check whether or not count is less than or equal to 100\n",
    "    print(count)        # prints our count variable each time (on a new line)\n",
    "    count = count + 1   # Tell Python that we added a penny  \n"
   ]
  },
  {
   "cell_type": "markdown",
   "metadata": {},
   "source": [
    "After reaching the last line in the loop, it will go back up to the first line of the loop (while count <= 100:), and check the condition again, and so on until the condition is no longer met, in this case once count equals 101. Notice that in the while loop, we had to explicitly tell the program to increase our count variable using count = count + 1. This may look like a strange kind of mathematical (in)equality, but remembering that = sign is for assigning values, this statement really just replaces the previous value of the variable count with the value count + 1. An equivalent, but more concise way of doing this is simply typing count += 1. "
   ]
  },
  {
   "cell_type": "markdown",
   "metadata": {},
   "source": [
    "## Takeaways\n",
    "\n",
    "> - Conditional statements, such as if-elif-else statements, allow you to perform different operations depending on whether certain conditions are met. <br>\n",
    "> - Loops, such as while loops and for loops, allow you to iterate over a sequence of objects (numbers, strings, etc.) and perform any operations repeatedly. <br>\n",
    "> - By combining loops and conditionals, you can iterate over a sequence and perform the specified operations only when certain conditions are met, rather than on every pass over the loop. <br>"
   ]
  },
  {
   "cell_type": "code",
   "execution_count": null,
   "metadata": {},
   "outputs": [],
   "source": []
  }
 ],
 "metadata": {
  "kernelspec": {
   "display_name": "Python 3",
   "language": "python",
   "name": "python3"
  },
  "language_info": {
   "codemirror_mode": {
    "name": "ipython",
    "version": 3
   },
   "file_extension": ".py",
   "mimetype": "text/x-python",
   "name": "python",
   "nbconvert_exporter": "python",
   "pygments_lexer": "ipython3",
   "version": "3.6.5"
  }
 },
 "nbformat": 4,
 "nbformat_minor": 2
}
