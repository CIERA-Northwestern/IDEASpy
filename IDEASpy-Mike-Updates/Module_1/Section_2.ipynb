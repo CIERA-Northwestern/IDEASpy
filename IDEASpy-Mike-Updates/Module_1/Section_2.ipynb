{
 "cells": [
  {
   "cell_type": "markdown",
   "metadata": {},
   "source": [
    "# 1.2 | Data Types and Precision\n",
    "\n",
    "## The Importance of Precision\n",
    "TLDR: <br>\n",
    "Precision, in computer science or math, is a measure of the detail in which a quantity is expressed. We'll use a baking example to illustrate the importance of precision. You're baking a strawberry tart and the recipe calls for 1.75 ounces of chopped strawberries. However, when you start weighing your strawberries you find that your food scale only reads out ounces in increments of 0.5 ounces - so the scale could read out 0.5, 1.0, 1.5 ounces etc. This scale lacks the precision, or detail, to tell you the information you need. In this example it's not the biggest deal, you can just round up and have more strawberries! However, when measuring some more delicate, like flour, precision with your measurement could be the difference between a baked treat that is just right or too dense (i.e too much flour).\n",
    "\n",
    "Technical Description:<br>\n",
    "Precision is a measure of the detail in which a quantity is expressed. In computer science, precision is typically measured in bits; in math or science, it's usually measured in decimal digits. As a scientist doing computational work, it's critical to pay attention to the types of numbers you're working with, or you may end up with incorrect results, or results that don't have high enough precision to accurately solve your computational problem. \n",
    "\n",
    "## Data Types in Python\n",
    "\n",
    "Your computer represents all numbers in terms of sets of binary digits, or bits. Your computer hardware determines how many bits are available for and exactly how it represents different types of data. In many cases, you will not need to explicitly state a data type because Python will automatically assign a data type based on how you entered the data or value. Other times you may want to explicitly set the data type, for example, if you know that your value is going to grow with your calculations, and you want to ensure that there's enough storage space reserved to store the value to the required precision. Most real data applications will call for many different data types, from ints to floats, to strings, to lists and arrays (sequences of items - more on these later).\n",
    "\n",
    "### Numbers\n",
    "\n",
    "Different kinds of numbers require different numbers of bits to store them. Also, as we saw in the first lesson, in some cases, the results of your calculations will differ based on the numbers' data types. Below we describe some of the most common data types in Python.\n",
    "\n",
    "#### __Integers__\n",
    "\n",
    "As you know, integers are either positive or negative whole numbers with no decimal points. These are commonly referred to as signed integers or ints for short. Your computer likely reserves 64 bits for each integer.\n",
    "\n",
    "#### __Long Integers__\n",
    "\n",
    "If you need your integer to be higher precision, you'd be better off declaring it as a _long integer_ instead. In fact, Python gets around such hardware limitations on the size of integers and floats by automatically converting numbers to a type that Python calls _long_. An integer of type long can be any size - there is no limit. \n",
    "\n",
    "#### __Floating Point Numbers__\n",
    "\n",
    "Floating point numbers, or _floats_, are numbers that are _not_ integers - i.e. they have decimal points. It may be a little confusing at first, but 1 is an integer, and 1.0 is a float. The number 1. (with the dot, but without the zero) is also a float. Like integers, your computer likely reserves 64 bits for each float. Floats can also implement the scientific notation with an upper or lower case E representing the power of 10. For example, 4.6E7 would be interpreted as $4.6\\times10^7$.\n",
    "\n",
    "#### __Complex Numbers__\n",
    "\n",
    "Complex numbers are numbers with a real and an imaginary part. We won't discuss complex numbers much in this course, but if you think you may have to use them in your research, take a moment to review this documentation on __[Complex Numbers](https://docs.python.org/3.3/library/cmath.html)__.\n",
    "\n",
    "#### __Declaring Data Types__\n",
    "Sometimes you may find it necessary to explicitly declare a number or variable as a specific data type, or to convert it from one type to another. Most commonly, you'd do conversions such as these:\n",
    "\n",
    "> float(5)     # Converts integer 5 to a float, resulting in 5.0\n",
    "> int(10.7)    # Converts float 10.7 to an integer, resulting in 10\n",
    "\n",
    "Note, when converting to an int, unless otherwise prompted, Python will always round down.\n",
    "\n",
    "You can also use variables within the int() or float() functions."
   ]
  },
  {
   "cell_type": "markdown",
   "metadata": {},
   "source": [
    "## Formatted Print Options\n",
    "\n",
    "You've learned a very simple way to print out numbers or variables to the screen, but sometimes you need a bit more control over the way things are printed out. There are many ways to format your printing (you can also use the write( ) method instead of print( )).\n",
    "\n",
    "### String Formatting\n",
    "\n",
    "Python’s str.format() method allows you to format your values and substitute variables into designated places. It does this using formatters, which work by putting in one or more placeholders, defined by a pair of curly braces {}, into a string and then calling the str.format() method. You’ll pass into the method the value you want to insert within your string. See the example below:\n",
    "\n",
    "Notes: \n",
    "- the placeholders are {:s}, {:7.5f}, {:d}, {:d}\n"
   ]
  },
  {
   "cell_type": "code",
   "execution_count": null,
   "metadata": {},
   "outputs": [],
   "source": [
    "fave_num=3.14159\n",
    "print('{:s} has an odd favorite number: {:7.5f} has {:d} total digits and {:d} digits after the decimal'.format(\n",
    "    'Jack', fave_num, 7, 5))"
   ]
  },
  {
   "cell_type": "markdown",
   "metadata": {},
   "source": [
    "Try removing all the formatting options inside the curly brackets, and reprint the above statement. You'll see that Python can recognize the types of values and will print them in the most appropriate way."
   ]
  },
  {
   "cell_type": "code",
   "execution_count": null,
   "metadata": {},
   "outputs": [],
   "source": []
  },
  {
   "cell_type": "markdown",
   "metadata": {},
   "source": [
    "What happens when you replace {:7.5f} with {:15.5f}?\n",
    "Write down what you observe below"
   ]
  },
  {
   "cell_type": "markdown",
   "metadata": {},
   "source": []
  },
  {
   "cell_type": "markdown",
   "metadata": {},
   "source": [
    "Try out the statements below— can you figure out what the numbers inside curly brackets do?"
   ]
  },
  {
   "cell_type": "code",
   "execution_count": null,
   "metadata": {},
   "outputs": [],
   "source": [
    "print('{0} and {1}'.format('green eggs', 'ham'))\n",
    "print('{1} and {0}'.format('green eggs', 'ham'))"
   ]
  },
  {
   "cell_type": "markdown",
   "metadata": {},
   "source": [
    "There's much more you can do with formatted printing, including truncating, padding and aligning your output. To learn some ways to do \"fancier\" output, refer to this page from the official Python documentation: __[Input and Output](https://docs.python.org/3.1/tutorial/inputoutput.html)__."
   ]
  },
  {
   "cell_type": "markdown",
   "metadata": {},
   "source": [
    "## Practice\n",
    "Use the code below to explore different types of formatted print. Fill in the missing code as indicated, and be sure you understand how each statement works before you move on. "
   ]
  },
  {
   "cell_type": "code",
   "execution_count": null,
   "metadata": {
    "scrolled": true
   },
   "outputs": [],
   "source": [
    "pi = 3.14159265359\n",
    "\n",
    "# Review the output of each of the next two print statements\n",
    "print('My pi = {:f}'.format(pi))\n",
    "print('My pi, {:2f}, has {:d} decimals'.format(pi,6))\n",
    "\n"
   ]
  },
  {
   "cell_type": "markdown",
   "metadata": {},
   "source": [
    "### How do change the amount of white space using the formatters/placeholders? Play around with the code above and leave a comment below with what you discover!"
   ]
  },
  {
   "cell_type": "markdown",
   "metadata": {},
   "source": []
  },
  {
   "cell_type": "markdown",
   "metadata": {},
   "source": [
    "### How would you change the code below to say \"My pi, 3.141593, is larger than 3\" by using formating? use the code below to experiment "
   ]
  },
  {
   "cell_type": "code",
   "execution_count": null,
   "metadata": {},
   "outputs": [],
   "source": [
    "print('My pi, FILL IN, has FILL IN decimals'.format(FILL IN,FILL IN))"
   ]
  },
  {
   "cell_type": "markdown",
   "metadata": {},
   "source": [
    "### What happens when you execute the code below?\n",
    "\n",
    "Before executing the code two cells below, write down what you think will happen in the markdown cell below"
   ]
  },
  {
   "cell_type": "markdown",
   "metadata": {},
   "source": []
  },
  {
   "cell_type": "code",
   "execution_count": null,
   "metadata": {},
   "outputs": [],
   "source": [
    "# What happens when you execute the code below?\n",
    "print('My pi = {:1f}'.format(pi))\n"
   ]
  },
  {
   "cell_type": "markdown",
   "metadata": {},
   "source": [
    "## Takeaways\n",
    "\n",
    "> - Since different operations or functions work differently on different data types in python, it's important to understand, and often to explicitly designate, the data types for variables you are working with\n",
    "> - When working with real data, it's critical to pay attention to the precision of numbers you are working with\n",
    "> - When writing output, you can make use of formatted print statements to control exactly what is printed and how, from the spacing to the precision of the numerical values\n",
    " "
   ]
  }
 ],
 "metadata": {
  "kernelspec": {
   "display_name": "Python 3",
   "language": "python",
   "name": "python3"
  },
  "language_info": {
   "codemirror_mode": {
    "name": "ipython",
    "version": 3
   },
   "file_extension": ".py",
   "mimetype": "text/x-python",
   "name": "python",
   "nbconvert_exporter": "python",
   "pygments_lexer": "ipython3",
   "version": "3.7.1"
  },
  "toc": {
   "base_numbering": 1,
   "nav_menu": {},
   "number_sections": true,
   "sideBar": true,
   "skip_h1_title": false,
   "title_cell": "Table of Contents",
   "title_sidebar": "Contents",
   "toc_cell": false,
   "toc_position": {},
   "toc_section_display": true,
   "toc_window_display": false
  },
  "varInspector": {
   "cols": {
    "lenName": 16,
    "lenType": 16,
    "lenVar": 40
   },
   "kernels_config": {
    "python": {
     "delete_cmd_postfix": "",
     "delete_cmd_prefix": "del ",
     "library": "var_list.py",
     "varRefreshCmd": "print(var_dic_list())"
    },
    "r": {
     "delete_cmd_postfix": ") ",
     "delete_cmd_prefix": "rm(",
     "library": "var_list.r",
     "varRefreshCmd": "cat(var_dic_list()) "
    }
   },
   "types_to_exclude": [
    "module",
    "function",
    "builtin_function_or_method",
    "instance",
    "_Feature"
   ],
   "window_display": false
  }
 },
 "nbformat": 4,
 "nbformat_minor": 2
}
