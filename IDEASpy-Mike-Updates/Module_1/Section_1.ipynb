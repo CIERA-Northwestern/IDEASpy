{
 "cells": [
  {
   "cell_type": "markdown",
   "metadata": {
    "slideshow": {
     "slide_type": "-"
    }
   },
   "source": [
    "# 1.1 | Getting Started with Python\n",
    "\n",
    "## Why Python?\n",
    "\n",
    "Python was created by Guido van Rossum and released in 1991. The goal was to create a language what was easy to learn, easy to read, and that could accomplish complicated tasks with very few lines of code. Python has quickly become one of the most popular coding languages when computing in scientific and many other industries. Perhaps most importantly, there are tons of libraries (sets of pre-written functions) that have been developed for Python. Often, the best way to accomplish a coding task is to simply find the library that has already solved the task for you. \n",
    "\n",
    "But to be able to leverage all that Python offers, you must start with the basics. As you go through this course, we'll provide you with lots of exercises to complete, both inside the actual course pages, as well as programs you'll need to build on your own computer. Two very important points we want to make at the outset:\n",
    "\n",
    ">1. When learning to code, it's important to actually do it! It's easy to simply look at code and say to yourself, \"yeah, that makes sense, I think I've got it!\" But seeing it and doing it are two very different things. Trust us!\n",
    "\n",
    ">2. We obviously cannot cover everything in this course, so if there's ever something that you don't completely get, or that you're interested in learning more about, look it up! Google things liberally and shamelessly, because there are tons of excellent Python resources out there. Reviewing different tutorials, examples, and forums will help you become familiar with the language more quickly.\n",
    "\n",
    "## The Makings of a Program\n",
    "\n",
    "The details look different in every language, but most programs include these basic elements\n",
    "> - __Input:__ Read in data from the keyboard, a file, or some other device\n",
    "> - __Output:__ Display information on the screen, send it to a file or other device\n",
    "> - __Math:__ Perform mathematical operations (like addition, multiplication, trigonometric functions) or more complex ones (like fancy statistical calculations)\n",
    "> - __Conditional Execution:__ Check for certain conditions to be met (e.g., if x is equal to 5) and execute a certain sequence of statements (commonly referred to as if-then statements)\n",
    "> - __Repetition:__ Perform some action repeatedly using loops, such as summing up all the numbers in a column of data\n",
    "\n",
    "As we go through the rest of this module, we'll cover all of these basic elements of a computer program.\n",
    "\n",
    "## Different Ways to Use Python\n",
    "\n",
    "Python is no one-trick pony! There are several different methods for coding in Python. We'll learn about three of them in this course. Note that JupyterLab allows you to use each method in the same place!\n",
    "\n",
    "> - __Interactive Mode:__ This method allows you to run Python code in the command line, line-by-line.\n",
    "> - __Standalone code written in a text editor:__ With this method, you will create a full program and execute the code all at once.\n",
    "> - __Jupyter Notebooks:__ This is an interactive environment in which you can keep many different codes together in a notebook of sorts. \n",
    "\n",
    "We'll start working with notebooks since we are already in one!\n",
    "\n",
    "The easiest way to start learning is by jumping right into an interactive session, where you get to see the results of the code you enter immediately. Ready to go?"
   ]
  },
  {
   "cell_type": "markdown",
   "metadata": {},
   "source": [
    "## Interactive Python in Your Terminal \n",
    "\n",
    "### Using Python as a Calculator\n",
    "We cannot emphasize enough the importance of actually doing these coding examples yourself, so make sure you do each exercise to the best of your abilities and don't move on until you get it. Try using the Python shell as a calculator by performing a few simple arithmetic operations as shown below. \n",
    "\n",
    "2+2<br>\n",
    "99-1<br>\n",
    "24*7<br>\n",
    "4/2<br>"
   ]
  },
  {
   "cell_type": "code",
   "execution_count": null,
   "metadata": {},
   "outputs": [],
   "source": []
  },
  {
   "cell_type": "markdown",
   "metadata": {},
   "source": [
    "As you'll see, Python is fairly intuitive (at least in comparison to some other languages), so most basic arithmetic operations will work as you'd expect. Now try out the following:\n",
    "\n",
    "3**2<br>"
   ]
  },
  {
   "cell_type": "code",
   "execution_count": null,
   "metadata": {},
   "outputs": [],
   "source": []
  },
  {
   "cell_type": "markdown",
   "metadata": {},
   "source": [
    "Python uses ** for exponentiation (not the ^ symbol, which is used in some other languages).\n",
    "\n",
    "Now try these next two calculations. \n",
    "\n",
    "5/2<br>\n",
    "1/4<br>"
   ]
  },
  {
   "cell_type": "code",
   "execution_count": null,
   "metadata": {},
   "outputs": [],
   "source": []
  },
  {
   "cell_type": "markdown",
   "metadata": {},
   "source": [
    "Python distinguishes between different types of numbers. Two of the most commonly used number types are integers and decimal, or floating point numbers (floats for short). In Python 2, when performing calculations with only integers, the outcome is always an integer (the convention is to round down). However, in Python 3, integer calculations will return the correct float values. See what happens when you enter the following in your Python console. Confirm that the behavior is as you would expect, depending on which verison of Python you're using.\n",
    "\n",
    "5.0/2<br>\n",
    "5./2<br>\n",
    "5/2.0<br>\n",
    "5/2.<br>\n",
    "5./2.<br>\n",
    "5/2<br>"
   ]
  },
  {
   "cell_type": "code",
   "execution_count": null,
   "metadata": {},
   "outputs": [],
   "source": []
  },
  {
   "cell_type": "markdown",
   "metadata": {},
   "source": [
    "Now try these calculations paying close attention to the double use of the division\n",
    "\n",
    "5//2"
   ]
  },
  {
   "cell_type": "code",
   "execution_count": 2,
   "metadata": {
    "ExecuteTime": {
     "end_time": "2021-02-04T17:30:37.230343Z",
     "start_time": "2021-02-04T17:30:37.213767Z"
    }
   },
   "outputs": [
    {
     "data": {
      "text/plain": [
       "2.5"
      ]
     },
     "execution_count": 2,
     "metadata": {},
     "output_type": "execute_result"
    }
   ],
   "source": []
  },
  {
   "cell_type": "markdown",
   "metadata": {},
   "source": [
    "This is how Python 2 would treat the division calculation 5/2."
   ]
  },
  {
   "cell_type": "markdown",
   "metadata": {},
   "source": [
    "Play around with these calculations until you understand exactly how Python will behave when performing calculations using different combinations of floats and integers. And, while you're at it, try some variants of these calculations. As a general principle for learning Python, or any other programming language, trial and error can go a long way!\n",
    "\n",
    "We can, of course, perform much more complicated calculations using variables and equations, which we'll work toward as we go through the remainder of this lesson.\n"
   ]
  },
  {
   "cell_type": "code",
   "execution_count": null,
   "metadata": {},
   "outputs": [],
   "source": []
  },
  {
   "cell_type": "markdown",
   "metadata": {},
   "source": [
    "## Variables and Assignments\n",
    "\n",
    "<b>What are variables?</b>\n",
    "\n",
    "You can think of variables as a box with a label. For example, if I put eight oranges into a box and stick a label on it that says \"oranges\" I know that there are a certain number of oranges there. I can open the box to see the number of oranges. Similarly, Python allows us to make, label, and fill boxes into our computers' memory as variables.  \n",
    "\n",
    "<b>When should I use variables?</b>\n",
    "\n",
    "When you know that you'll be using a number or other object more than once, it is wise to assign it to a variable. The assigned value will be stored throughout a given program or an interactive Python session until it the session ends or the variable is reassigned.\n",
    "\n",
    "<b>How do I make a variable?</b>\n",
    "\n",
    "To assign a number to a variable, use the assignment command = with your chosen variable name on the left, and the \"object\" you'd like to assign to that variable name on the right side. Note, the object can be a number, a string (any sequence of characters), or other data type (and you'll learn about many more data types later in the course). The sample code below shows some examples of assignments to variables. Note the use of the single quotes around the string in the second example. Without the quotes, the string grapes would be interpreted as a variable, which would return an error, as no such variable has been assigned.\n",
    "\n",
    "> - Code begins here\n",
    "> - oranges = 8        # Set variable to equal a number<br>\n",
    "> - favorite_fruit = 'oranges'   # Set variable as a string, which requires the quotes<br>\n",
    "> - Code ends here\n",
    "\n",
    "Note that the symbol # (pound or hash symbol) is used to designate comments in Python, which will be ignored by the interpreter. We'll use comments in the lessons to explain what the example code blocks mean. An entire line can be a comment, or if the hash symbol is inserted in the middle of a line, everything that follows is interpreted as a comment.\n",
    "\n",
    "#number = 99 This whole line is a comment, so the variable declaration isn't executed<br>\n",
    "number = 99   # This part is a comment, but everything before the hash will be executed<br>\n",
    "\n",
    "<b>How can I check what is in a variable?</b>\n",
    "\n",
    "You can use functions like print() and type(). If you use the print function on a variable, this would be equivalent to opening the box and turning it upside down so that everything falls out and you can see exactly what is in it. In your jupyter notebook, using the print function on a variable will print out whatever has been assigned to it.  \n",
    "\n",
    "Using the type function (type()) on a variable will give you information about that is assigned in the variable. You can think about it as shaking the box and being able to tell what is in it because you hear a clank, or you can feel that is heavy. You get some information if you just use type(), but would need to use the print() function to know exactly what is in there! Lets see some examples using both.\n",
    "\n",
    "> - Code begins here\n",
    "> - oranges = 8        # Set variable to equal a number\n",
    "> - favorite_fruit = 'oranges'   # Set variable as a string, which requires the quotes\n",
    "> - print(oranges)\n",
    "> - print(favorite_fruit)\n",
    "> - print(\"oranges is a variable that contains a\", type(oranges))\n",
    "> - print(\"favorite_fruit is a variable that contains a\", type(favorite_fruit))\n",
    "> - Code ends here\n",
    "\n",
    "If we run the code block above, what do you think would happen? Write down a quick sentence on what you would expect before running the next cell!"
   ]
  },
  {
   "cell_type": "code",
   "execution_count": 1,
   "metadata": {
    "ExecuteTime": {
     "end_time": "2021-02-11T22:53:31.532863Z",
     "start_time": "2021-02-11T22:53:31.520196Z"
    }
   },
   "outputs": [
    {
     "name": "stdout",
     "output_type": "stream",
     "text": [
      "8\n",
      "oranges\n",
      "oranges is a variable that contains a <class 'int'>\n",
      "favorite_fruit is a variable that contains a <class 'str'>\n"
     ]
    }
   ],
   "source": [
    "oranges = 8        # Set variable to equal a number\n",
    "favorite_fruit = 'oranges'   # Set variable as a string, which requires the quotes\n",
    "print(oranges)\n",
    "print(favorite_fruit)\n",
    "print(\"oranges is a variable that contains a\", type(oranges))\n",
    "print(\"favorite_fruit is a variable that contains a\", type(favorite_fruit))"
   ]
  },
  {
   "cell_type": "markdown",
   "metadata": {},
   "source": [
    "### Rules for Selecting Variable Names\n",
    "\n",
    "> - Cannot start with a numeric digit (1var is not allowed)\n",
    "> - Cannot contain spaces, quotation marks, or other punctuation (my variable, \"my_var\", my_var!#$ are not allowed)\n",
    "> - Can contain underscores, which are typically used to separate words in long variable names (my_var and student_grades are allowed))\n"
   ]
  },
  {
   "cell_type": "markdown",
   "metadata": {},
   "source": [
    "### More Variable Examples\n",
    "> - test = 44 # saves the integer \"44\" to the variable \"test\"\n",
    "> - float_test = 55.8 # saves the float \"55.8\" to the variable \"float_test\"\n",
    "> - string_test = \"this is only a test\" # saves the string \"this is only a test\" to the variable \"test_var\"\n",
    "\n",
    "Try using the Python shell below to save three variables. Try making a variable that stores one of each: an integer, a float, and a string. Hint: you can  check that they are the right type using \"print (type(your_variable))\"! \n",
    "> - Example: type(string_test) # this would print out a string that says \"str\", confirming that the data stored to \"string_test\" is a string\n"
   ]
  },
  {
   "cell_type": "code",
   "execution_count": null,
   "metadata": {},
   "outputs": [],
   "source": []
  },
  {
   "cell_type": "markdown",
   "metadata": {},
   "source": [
    "### Python Calculator with Variables\n",
    "\n",
    "It is often very helpful to do arithmetic with variables!\n",
    "Lets use an example where we calculate the cost of some produce\n",
    "Apples cost a dollar each and bananas cost fifty cents each. Lets make variables that correspond to the cost of these fruits.\n",
    "\n",
    "> - <b>*By assigning \"1.00\" instead of \"1\" to the variable below, python knows to store this as a float*</b> \n",
    "> - apples = 1.00 \n",
    "> - <b>*see previous comment*</b>\n",
    "> - bananas = 0.50                        \n",
    "\n",
    "Now that we have the cost of a single piece of each fruit, lets use the variables to calculate the cost of the following grocery list: 10 apples and 8 bananas.\n",
    "> - total = (10 * apples ) + (8 * bananas)\n",
    "> - <b>*Note: Python knows PEMDAS, but I like to include parenthesis to make the equation easier for my eyes :)*</b>\n",
    "\n",
    "Run the cell below to calculate the total! You may have notice that in this example we have multiplied integers by floats. 10 is an integer and apple is a float because of how we assigned its value. Pay close attention to the output of the cell below to reach a conclusion on what Python outputs in these types of calculation - an int or a float. Which do you think it will be? Use type() to confirm if you would like!"
   ]
  },
  {
   "cell_type": "code",
   "execution_count": 7,
   "metadata": {
    "ExecuteTime": {
     "end_time": "2021-02-04T18:37:41.414136Z",
     "start_time": "2021-02-04T18:37:41.405140Z"
    }
   },
   "outputs": [
    {
     "name": "stdout",
     "output_type": "stream",
     "text": [
      "the total cost for 10 apples and 8 bananas is $ 14.0\n"
     ]
    }
   ],
   "source": [
    "# Python Calculator Example\n",
    "\n",
    "# lets set the variable\n",
    "apples = 1.00\n",
    "bananas = 0.50\n",
    "\n",
    "# now lets calculate the cost of our grocery list: 10 apples & 8 bananas\n",
    "\n",
    "total_cost = (10 * apples) + (8 * bananas)\n",
    "\n",
    "# lets print this result!\n",
    "print (\"the total cost for 10 apples and 8 bananas is $\", total_cost)"
   ]
  },
  {
   "cell_type": "markdown",
   "metadata": {},
   "source": [
    "## Input and Output\n",
    "\n",
    "In just about every real code you'll write as a researcher, you'll need to use input and output in one form or another. Examples of input include the numbers you enter inside a function (e.g., the value x in sin(x)), input collected from a user in the command line (Please enter your name: ______), or, most likely, data that's read in from a file. We'll discuss these different forms of input later in the course. For now let's focus on output, which is an even more foundational concept to begin with.\n",
    "\n",
    "So, what can we do with the numbers and variables we're working with? We can display them on the terminal screen, which we refer to as standard output. Standard output can be generated in several ways, the most basic being through the print statement. A few sample print statements are shown below. \n",
    "\n",
    "print(99)              # print a simple numeric value<br>\n",
    "print('grapes')        # print a string - must put it inside quotes<br>\n",
    "print(99, 'grapes')    # print multiple items on the line by separating them with commas<br>\n"
   ]
  },
  {
   "cell_type": "markdown",
   "metadata": {},
   "source": [
    "# Practice"
   ]
  },
  {
   "cell_type": "markdown",
   "metadata": {},
   "source": [
    " - Use the assignment operator = to create a variable that stores your name\n",
    " - Create another variable to store your birth year\n",
    " - Print out your name and birth year on separate lines\n",
    "\n",
    " - Create output in the form of a sentence that looks just like this (all on the same line):<br>\n",
    "> My name is \"your name\" and my birth year is \"your birth year\""
   ]
  },
  {
   "cell_type": "code",
   "execution_count": null,
   "metadata": {},
   "outputs": [],
   "source": []
  },
  {
   "cell_type": "markdown",
   "metadata": {},
   "source": [
    "# Mini Challenge: Kinematics"
   ]
  },
  {
   "cell_type": "markdown",
   "metadata": {},
   "source": [
    "## Calculating acceleration in one dimensional motion "
   ]
  },
  {
   "cell_type": "code",
   "execution_count": 27,
   "metadata": {
    "ExecuteTime": {
     "end_time": "2021-02-12T00:47:36.982203Z",
     "start_time": "2021-02-12T00:47:36.944530Z"
    }
   },
   "outputs": [],
   "source": [
    "# import matplotlib.pyplot as plt"
   ]
  },
  {
   "cell_type": "code",
   "execution_count": 28,
   "metadata": {
    "ExecuteTime": {
     "end_time": "2021-02-12T00:47:39.119005Z",
     "start_time": "2021-02-12T00:47:39.115812Z"
    }
   },
   "outputs": [],
   "source": [
    "# velocity = [0,3,6,0,-6]\n",
    "# time = [0,3,6,9,12]\n",
    "\n",
    "# fig, ax1 = plt.subplots(1, 1)\n",
    "# ax1.plot(time, velocity)\n",
    "# ax1.set_ylabel(r'$\\mathrm{Velocity\\ [m/s]}$',size=15)\n",
    "# ax1.set_xlabel(r'$\\mathrm{Time\\ [s]}$',size=15)\n",
    "# ax1.set_title(r'$\\mathrm{Velocity\\ vs.\\ Time\\ graph\\ for\\ a\\ Basketball\\ player}$',size=15)\n",
    "# ax1.tick_params(axis=\"x\", labelsize=15)\n",
    "# ax1.tick_params(axis=\"y\", labelsize=15)\n",
    "# ax1.grid()"
   ]
  },
  {
   "attachments": {
    "bballplayerplot.png": {
     "image/png": "[encoded data removed]"
    }
   },
   "cell_type": "markdown",
   "metadata": {},
   "source": [
    "<b>Situation:</b> A basketball player starts at the left end of the court and moves with the velocity shown in the plot below.\n",
    "\n",
    "![bballplayerplot.png](attachment:bballplayerplot.png)\n",
    "\n",
    "***\n",
    "An equation you may find helpful:\n",
    "\n",
    "A.&emsp;Acceleration is the slope of the velocity graph $$a_{x} = \\frac{\\Delta v_{x}}{\\Delta t}$$\n",
    "\n",
    "<b>Qualitative questions to answer:</b>\n",
    "1. During what times is the basketball player's velocity positive?\n",
    "2. During what times is the basketball player's velocity negative?\n",
    "3. At which point(s) is the basketball player momentarily still?\n",
    "4. Does the basketball player turn around? if so, when?\n",
    "\n",
    "<b>Quantitative questions to answer:</b>\n",
    "\n",
    "1. What is the acceleration during the first 6 seconds?\n",
    "2. What is the acceleration during the last 3 seconds?"
   ]
  },
  {
   "cell_type": "markdown",
   "metadata": {},
   "source": [
    "\n",
    "\n",
    "## Takeaways: \n",
    "\n",
    "> - The easiest way to learn Python is by playing in interactive mode. However, sometimes you'll be writing scripts, or whole codes, that you execute altogether. <br>\n",
    "> - Python is a powerful mathematical tool! Now you know how to use Python to perform basic mathematical calculations, and it can also do just about the most advanced mathematics you could ever imagine!<br>\n",
    "> - Variables can be thought of as boxes to store different types of things in python, such as integers, floats, and strings \n",
    "> - It's important for us to be aware of variable types because Python treats each type (e.g integer, float, and string) in unique ways!<br>"
   ]
  },
  {
   "cell_type": "code",
   "execution_count": null,
   "metadata": {},
   "outputs": [],
   "source": []
  }
 ],
 "metadata": {
  "kernelspec": {
   "display_name": "Python 3",
   "language": "python",
   "name": "python3"
  },
  "language_info": {
   "codemirror_mode": {
    "name": "ipython",
    "version": 3
   },
   "file_extension": ".py",
   "mimetype": "text/x-python",
   "name": "python",
   "nbconvert_exporter": "python",
   "pygments_lexer": "ipython3",
   "version": "3.7.1"
  },
  "toc": {
   "base_numbering": 1,
   "nav_menu": {},
   "number_sections": true,
   "sideBar": true,
   "skip_h1_title": false,
   "title_cell": "Table of Contents",
   "title_sidebar": "Contents",
   "toc_cell": false,
   "toc_position": {},
   "toc_section_display": true,
   "toc_window_display": false
  },
  "varInspector": {
   "cols": {
    "lenName": 16,
    "lenType": 16,
    "lenVar": 40
   },
   "kernels_config": {
    "python": {
     "delete_cmd_postfix": "",
     "delete_cmd_prefix": "del ",
     "library": "var_list.py",
     "varRefreshCmd": "print(var_dic_list())"
    },
    "r": {
     "delete_cmd_postfix": ") ",
     "delete_cmd_prefix": "rm(",
     "library": "var_list.r",
     "varRefreshCmd": "cat(var_dic_list()) "
    }
   },
   "types_to_exclude": [
    "module",
    "function",
    "builtin_function_or_method",
    "instance",
    "_Feature"
   ],
   "window_display": false
  }
 },
 "nbformat": 4,
 "nbformat_minor": 2
}
