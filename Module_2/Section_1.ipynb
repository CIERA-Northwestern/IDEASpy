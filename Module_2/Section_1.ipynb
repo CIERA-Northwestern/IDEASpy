{
 "cells": [
  {
   "cell_type": "markdown",
   "metadata": {},
   "source": [
    "# 2.1 | Lists in Python\n",
    "\n",
    "## Why Use Lists?\n",
    "\n",
    "Lists in Python are a convenient way to store related information. Lists are essentially ordered sequences of items, and these items can be of any type you wish, and can even mix different types of data, making them very versatile objects. A Python list is much like a mathematical matrix, except that the entries can contain objects that are not numbers.\n",
    "\n",
    "Let’s start with the very basics of lists.\n",
    "\n",
    "## Defining and Manipulating Lists\n",
    "\n",
    "To define a list, simply put the items inside of square brackets separated by commas, as shown in the examples below.\n"
   ]
  },
  {
   "cell_type": "code",
   "execution_count": 1,
   "metadata": {},
   "outputs": [],
   "source": [
    "my_list_1 = [2, 8, 4, 8]             # list of numbers\n",
    "my_list_2 = ['cat', 'dog', 'llama']  # list of strings, must use 'string'\n",
    "my_list_3 = ['Alice', 42, 'Bob', 66] # list with strings and numbers\n",
    "my_list_4 = [my_list_1, my_list_2, my_list_3] # list of predefined variables"
   ]
  },
  {
   "cell_type": "markdown",
   "metadata": {},
   "source": [
    "Once you have a list defined, there are many things you can do with it. Here are some common examples:"
   ]
  },
  {
   "cell_type": "code",
   "execution_count": 2,
   "metadata": {},
   "outputs": [
    {
     "name": "stdout",
     "output_type": "stream",
     "text": [
      "4\n"
     ]
    }
   ],
   "source": [
    "my_list = [2, 8, 6, 4]\n",
    "list_length = len(my_list)  # returns the length, or number of items, in the list (4)\n",
    "print(list_length)"
   ]
  },
  {
   "cell_type": "code",
   "execution_count": 3,
   "metadata": {},
   "outputs": [
    {
     "name": "stdout",
     "output_type": "stream",
     "text": [
      "[2, 4, 6, 8]\n"
     ]
    }
   ],
   "source": [
    "my_list.sort()  # sorts the list from smallest to largest [2, 4, 6, 8]\n",
    "print(my_list)"
   ]
  },
  {
   "cell_type": "code",
   "execution_count": 4,
   "metadata": {},
   "outputs": [
    {
     "name": "stdout",
     "output_type": "stream",
     "text": [
      "[8, 6, 4, 2]\n"
     ]
    }
   ],
   "source": [
    "my_list.sort(reverse=True)  # reverse-sorts the list [8, 6, 4, 2]\n",
    "print(my_list)"
   ]
  },
  {
   "cell_type": "code",
   "execution_count": 5,
   "metadata": {},
   "outputs": [
    {
     "name": "stdout",
     "output_type": "stream",
     "text": [
      "range(0, 4)\n"
     ]
    }
   ],
   "source": [
    "list_length_range = range(len(my_list))  # returns list from 0 to len(my_list)-1, e.g., [0, 1, 2, 3]\n",
    "print(list_length_range)"
   ]
  },
  {
   "cell_type": "markdown",
   "metadata": {},
   "source": [
    "__Note:__, we discussed the range function in Module 1. We bring it up again because it's an extremely useful function for using lists in for loops, which we'll talk more about in the next lesson."
   ]
  },
  {
   "cell_type": "markdown",
   "metadata": {},
   "source": [
    "## Referencing Elements in a List\n",
    "\n",
    "The previous examples were things you could do with an entire list, but often you'll just want to reference certain individual elements or perhaps a slice (subset) of the list. In Python, counting starts with ZERO, so the first item in a list will be referenced with the index 0. Also, negative indices count backward from the end of the list.\n",
    "\n",
    "### Single Elements\n",
    "\n",
    "Referencing a single element in a Python list is easy:"
   ]
  },
  {
   "cell_type": "code",
   "execution_count": 7,
   "metadata": {},
   "outputs": [
    {
     "name": "stdout",
     "output_type": "stream",
     "text": [
      "8\n",
      "8\n",
      "4\n",
      "2\n"
     ]
    }
   ],
   "source": [
    "i = 0\n",
    "print(my_list[i])        # item with index (position) i\n",
    "print(my_list[0])        # returns the FIRST item in the list\n",
    "print(my_list[2])        # returns the THIRD item in the list\n",
    "print(my_list[-1])       # last item in the array"
   ]
  },
  {
   "cell_type": "markdown",
   "metadata": {},
   "source": [
    "### Slices\n",
    "\n",
    "When you take slice of a list, you have three options you can control: the start index, the end index (which is non-inclusive in the slice), and a step value, which designates how you want to step over the items included in your slice (every item, every other item, etc.). Each of these options is separated by a colon (:), and they are all optional. However, when left out, it has a very specific meaning. The trickiest thing to remember is that the end value is actually the first number that is NOT included in the selected slice. Check out the examples below and their meaning."
   ]
  },
  {
   "cell_type": "code",
   "execution_count": 10,
   "metadata": {},
   "outputs": [
    {
     "name": "stdout",
     "output_type": "stream",
     "text": [
      "[0, 1, 2, 3, 4, 5, 6, 7, 8, 9, 10]\n",
      "10\n",
      "[9, 10]\n",
      "[0, 1, 2, 3, 4, 5, 6, 7, 8]\n",
      "[0, 2, 4, 6, 8]\n"
     ]
    }
   ],
   "source": [
    "my_list = [0,1,2,3,4,5,6,7,8,9,10]      # create a new list\n",
    "\n",
    "print(my_list[:])               # a copy of the whole list\n",
    "print(my_list[-1])              # last item in the array\n",
    "print(my_list[-2:])             # only the last two items in the list\n",
    "print(my_list[:-2])             # everything except the last two items\n",
    "print(my_list[0:10:2])         # items 0, 2, 4, 6, 8 (but not including 10!)"
   ]
  },
  {
   "cell_type": "markdown",
   "metadata": {},
   "source": [
    "You can also use variables to access a slice of your list. See the examples below:"
   ]
  },
  {
   "cell_type": "code",
   "execution_count": 12,
   "metadata": {},
   "outputs": [
    {
     "name": "stdout",
     "output_type": "stream",
     "text": [
      "[1, 2, 3, 4, 5, 6, 7, 8, 9, 10]\n",
      "[0, 1, 2, 3, 4, 5, 6, 7, 8, 9]\n",
      "[1, 4, 7]\n"
     ]
    }
   ],
   "source": [
    "start = 1\n",
    "end = 10\n",
    "step = 3\n",
    "\n",
    "print(my_list[start:])          # items start through the rest of the list\n",
    "print(my_list[:end] )           # items from the beginning through end-1\n",
    "print(my_list[start:end:step])  # items from index start through end-1,\n"
   ]
  },
  {
   "cell_type": "markdown",
   "metadata": {},
   "source": [
    "## Practice\n",
    "\n",
    "Now that you know a bit about how lists work, fill in the necessary code below to manipulate lists of test scores."
   ]
  },
  {
   "cell_type": "code",
   "execution_count": 13,
   "metadata": {},
   "outputs": [
    {
     "name": "stdout",
     "output_type": "stream",
     "text": [
      "[88, 91, 99, 77, 93]\n"
     ]
    }
   ],
   "source": [
    "# Create a list of student grades and print it\n",
    "# (this is done for you already)\n",
    "grades = [88, 91, 99, 77, 93]\n",
    "print(grades)\n",
    "\n",
    "# Print the number of student grades contained in the list (the length of the list)\n",
    "\n",
    "\n",
    "# Print out the top three grades, highest to lowest, referencing each item individually by its index\n",
    "\n",
    "\n",
    "# Sort the grades from lowest to higest, then print the sorted list\n",
    "\n",
    "\n",
    "# Use the slice method to print the three highest scores\n"
   ]
  },
  {
   "cell_type": "markdown",
   "metadata": {},
   "source": [
    "## Updating a List\n",
    "\n",
    "You can also create empty lists and fill them as you go. Or, if you have an existing list with any number of elements, you can use the append or insert methods shown below to expand your lists. There are also various ways of removing items from a list. A few of these methods are shown below, but you can see all the list methods __[here](https://docs.python.org/3/tutorial/datastructures.html)__."
   ]
  },
  {
   "cell_type": "code",
   "execution_count": 17,
   "metadata": {},
   "outputs": [],
   "source": [
    "item1 = 10\n",
    "item2 = 3\n",
    "item3 = 2\n",
    "i = 0\n",
    "x = 10\n",
    "\n",
    "list = []             # creates an empty list and fill it later\n",
    "list.append(item1)    # appends item1 to the end of the list\n",
    "list.insert(i, item2) # inserts item2 at position i\n",
    "list.append(item3)    # appends item3 to the end of the list\n",
    "list.pop()            # remove the last item from the list and return it\n",
    "list.pop(i)           # remove the item in position i from the list and return it\n",
    "list.remove(x)        # remove the first item from the list whose value is x "
   ]
  },
  {
   "cell_type": "markdown",
   "metadata": {},
   "source": [
    "## Practice\n",
    "Practice the methods above by filling in the necessary code to manipulate some lists of student grades."
   ]
  },
  {
   "cell_type": "code",
   "execution_count": 18,
   "metadata": {},
   "outputs": [],
   "source": [
    "# Student names and grades\n",
    "# Alice   Bob   Collette  Darren  Fred\n",
    "# 88      91    99        77      93\n",
    "\n",
    "# List of student grades\n",
    "grades = [88, 91, 77]\n",
    "\n",
    "# Oops! We forgot to include Collette's and Fred's grades\n",
    "# Use \"insert\" to insert Collette's grade into the right place in the list, \n",
    "# and use \"append\" to add Fred's grade where it belongs.\n",
    "\n",
    "\n",
    "# Sort the grades from higest to lowest, then print the sorted list\n",
    "\n",
    "\n",
    "# The student with the lowest score has dropped; delete them from the list using \"pop\" then print the list\n",
    "\n",
    "\n",
    "# The student with score of 93 has dropped; so remove them from the list using \"remove\" then print the list\n",
    "\n"
   ]
  },
  {
   "cell_type": "markdown",
   "metadata": {},
   "source": [
    "## Takeaways: \n",
    "> - Lists are sequences of items that can be of any data type (even another list), and are an extremely useful tool in Python\n",
    "> - Items in list can be referenced using indices, and they can also be sorted and sliced and diced in different ways to suit your needs\n",
    "> - Lists are one of many different type of array-like objects, and used frequently because they are simple to set up and are very flexible\n"
   ]
  }
 ],
 "metadata": {
  "kernelspec": {
   "display_name": "Python 3",
   "language": "python",
   "name": "python3"
  },
  "language_info": {
   "codemirror_mode": {
    "name": "ipython",
    "version": 3
   },
   "file_extension": ".py",
   "mimetype": "text/x-python",
   "name": "python",
   "nbconvert_exporter": "python",
   "pygments_lexer": "ipython3",
   "version": "3.6.5"
  }
 },
 "nbformat": 4,
 "nbformat_minor": 2
}
